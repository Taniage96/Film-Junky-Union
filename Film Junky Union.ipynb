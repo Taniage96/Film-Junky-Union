{
 "cells": [
  {
   "cell_type": "markdown",
   "metadata": {},
   "source": [
    "# Project description"
   ]
  },
  {
   "cell_type": "markdown",
   "metadata": {},
   "source": [
    "Film Junky Union, a cutting-edge new community for classic movie fans, is developing a system for filtering and categorizing movie reviews. Your goal is to train a model to detect negative reviews automatically. To achieve this, you will use a dataset of IMDB movie reviews with polarity legends to build a model to classify positive and negative reviews. This must reach an F1 value of at least 0.85."
   ]
  },
  {
   "cell_type": "markdown",
   "metadata": {},
   "source": [
    "## Initialization"
   ]
  },
  {
   "cell_type": "code",
   "execution_count": 1,
   "metadata": {},
   "outputs": [
    {
     "name": "stderr",
     "output_type": "stream",
     "text": [
      "2025-03-02 15:33:52.500628: I tensorflow/core/platform/cpu_feature_guard.cc:210] This TensorFlow binary is optimized to use available CPU instructions in performance-critical operations.\n",
      "To enable the following instructions: AVX2 FMA, in other operations, rebuild TensorFlow with the appropriate compiler flags.\n",
      "[nltk_data] Downloading package punkt to /Users/tania/nltk_data...\n",
      "[nltk_data]   Package punkt is already up-to-date!\n",
      "[nltk_data] Downloading package wordnet to /Users/tania/nltk_data...\n",
      "[nltk_data]   Package wordnet is already up-to-date!\n",
      "[nltk_data] Downloading package stopwords to /Users/tania/nltk_data...\n",
      "[nltk_data]   Package stopwords is already up-to-date!\n",
      "[nltk_data] Downloading package punkt to /Users/tania/nltk_data...\n",
      "[nltk_data]   Package punkt is already up-to-date!\n",
      "[nltk_data] Downloading package wordnet to /Users/tania/nltk_data...\n",
      "[nltk_data]   Package wordnet is already up-to-date!\n",
      "[nltk_data] Downloading package stopwords to /Users/tania/nltk_data...\n",
      "[nltk_data]   Package stopwords is already up-to-date!\n"
     ]
    }
   ],
   "source": [
    "import math\n",
    "import numpy as np\n",
    "import pandas as pd\n",
    "import lightgbm as lgb\n",
    "import matplotlib\n",
    "import matplotlib.pyplot as plt\n",
    "from transformers import BertTokenizer, BertForSequenceClassification, AdamW\n",
    "import matplotlib.dates as mdates\n",
    "import seaborn as sns\n",
    "import torch\n",
    "import transformers\n",
    "from torch.utils.data import TensorDataset\n",
    "import logging\n",
    "import re\n",
    "from tqdm.auto import tqdm\n",
    "from sklearn.preprocessing import StandardScaler\n",
    "from imblearn.over_sampling import SMOTE \n",
    "import nltk\n",
    "nltk.download('punkt')\n",
    "from tensorflow.keras.callbacks import EarlyStopping\n",
    "from sklearn.feature_extraction.text import TfidfVectorizer\n",
    "from sklearn.linear_model import LogisticRegression\n",
    "from nltk.stem import WordNetLemmatizer\n",
    "from nltk.tokenize import word_tokenize\n",
    "from nltk.corpus import stopwords\n",
    "from nltk.corpus import stopwords as nltk_stopwords\n",
    "from sklearn.feature_extraction.text import TfidfVectorizer\n",
    "import spacy\n",
    "from sklearn.model_selection import GridSearchCV\n",
    "import random\n",
    "from imblearn.over_sampling import SMOTE\n",
    "import warnings\n",
    "import nltk\n",
    "import torch.nn as nn \n",
    "from torch.utils.data import TensorDataset, DataLoader\n",
    "from transformers import BertTokenizer, BertModel\n",
    "import torch.optim as optim\n",
    "from nltk.tokenize import word_tokenize\n",
    "from nltk.stem import WordNetLemmatizer\n",
    "nltk.download('wordnet')\n",
    "nltk.data.path.append('python/Proyecto 14')\n",
    "nltk.download('stopwords')\n",
    "from sklearn.dummy import DummyClassifier\n",
    "from sklearn.metrics import accuracy_score, precision_score, recall_score, f1_score, roc_auc_score \n",
    "from sklearn import metrics\n",
    "import nltk\n",
    "nltk.download('punkt')\n",
    "nltk.download('wordnet')\n",
    "nltk.download('stopwords')\n",
    "import nltk\n",
    "import spacy\n",
    "nlp = spacy.load('en_core_web_sm') \n",
    "from imblearn.over_sampling import RandomOverSampler\n",
    "from lightgbm import LGBMClassifier\n",
    "from sklearn.model_selection import StratifiedKFold\n",
    "from transformers import BertTokenizer, BertModel\n",
    "from imblearn.over_sampling import RandomOverSampler\n",
    "import torch"
   ]
  },
  {
   "cell_type": "code",
   "execution_count": 2,
   "metadata": {},
   "outputs": [],
   "source": [
    "%matplotlib inline\n",
    "%config InlineBackend.figure_format = 'png'\n",
    "#the next line provides better quality graphics on HiDPI displays\n",
    "#%config InlineBackend.figure_format = 'retina'\n",
    "\n",
    "sns.set_style()  # Apply default Seaborn styles"
   ]
  },
  {
   "cell_type": "code",
   "execution_count": 3,
   "metadata": {},
   "outputs": [],
   "source": [
    "#this is to use progress_apply\n",
    "tqdm.pandas()"
   ]
  },
  {
   "cell_type": "markdown",
   "metadata": {},
   "source": [
    "## Load data"
   ]
  },
  {
   "cell_type": "code",
   "execution_count": 4,
   "metadata": {},
   "outputs": [],
   "source": [
    "# Read the IMDb reviews data from a TSV file into a Pandas DataFrame\n",
    "df_reviews = pd.read_csv('imdb_reviews.tsv', sep='\\t', dtype={'votes': 'Int64'})"
   ]
  },
  {
   "cell_type": "code",
   "execution_count": 5,
   "metadata": {},
   "outputs": [
    {
     "name": "stdout",
     "output_type": "stream",
     "text": [
      "<class 'pandas.core.frame.DataFrame'>\n",
      "RangeIndex: 47331 entries, 0 to 47330\n",
      "Data columns (total 17 columns):\n",
      " #   Column           Non-Null Count  Dtype  \n",
      "---  ------           --------------  -----  \n",
      " 0   tconst           47331 non-null  object \n",
      " 1   title_type       47331 non-null  object \n",
      " 2   primary_title    47331 non-null  object \n",
      " 3   original_title   47331 non-null  object \n",
      " 4   start_year       47331 non-null  int64  \n",
      " 5   end_year         47331 non-null  object \n",
      " 6   runtime_minutes  47331 non-null  object \n",
      " 7   is_adult         47331 non-null  int64  \n",
      " 8   genres           47331 non-null  object \n",
      " 9   average_rating   47329 non-null  float64\n",
      " 10  votes            47329 non-null  Int64  \n",
      " 11  review           47331 non-null  object \n",
      " 12  rating           47331 non-null  int64  \n",
      " 13  sp               47331 non-null  object \n",
      " 14  pos              47331 non-null  int64  \n",
      " 15  ds_part          47331 non-null  object \n",
      " 16  idx              47331 non-null  int64  \n",
      "dtypes: Int64(1), float64(1), int64(5), object(10)\n",
      "memory usage: 6.2+ MB\n"
     ]
    }
   ],
   "source": [
    "#Analyze general information\n",
    "df_reviews.info()"
   ]
  },
  {
   "cell_type": "code",
   "execution_count": 6,
   "metadata": {},
   "outputs": [
    {
     "data": {
      "text/html": [
       "<div>\n",
       "<style scoped>\n",
       "    .dataframe tbody tr th:only-of-type {\n",
       "        vertical-align: middle;\n",
       "    }\n",
       "\n",
       "    .dataframe tbody tr th {\n",
       "        vertical-align: top;\n",
       "    }\n",
       "\n",
       "    .dataframe thead th {\n",
       "        text-align: right;\n",
       "    }\n",
       "</style>\n",
       "<table border=\"1\" class=\"dataframe\">\n",
       "  <thead>\n",
       "    <tr style=\"text-align: right;\">\n",
       "      <th></th>\n",
       "      <th>start_year</th>\n",
       "      <th>is_adult</th>\n",
       "      <th>average_rating</th>\n",
       "      <th>votes</th>\n",
       "      <th>rating</th>\n",
       "      <th>pos</th>\n",
       "      <th>idx</th>\n",
       "    </tr>\n",
       "  </thead>\n",
       "  <tbody>\n",
       "    <tr>\n",
       "      <th>count</th>\n",
       "      <td>47331.000000</td>\n",
       "      <td>47331.000000</td>\n",
       "      <td>47329.000000</td>\n",
       "      <td>47329.0</td>\n",
       "      <td>47331.000000</td>\n",
       "      <td>47331.000000</td>\n",
       "      <td>47331.000000</td>\n",
       "    </tr>\n",
       "    <tr>\n",
       "      <th>mean</th>\n",
       "      <td>1989.631235</td>\n",
       "      <td>0.001732</td>\n",
       "      <td>5.998278</td>\n",
       "      <td>25562.917323</td>\n",
       "      <td>5.484608</td>\n",
       "      <td>0.498954</td>\n",
       "      <td>6279.697999</td>\n",
       "    </tr>\n",
       "    <tr>\n",
       "      <th>std</th>\n",
       "      <td>19.600364</td>\n",
       "      <td>0.041587</td>\n",
       "      <td>1.494289</td>\n",
       "      <td>83670.039163</td>\n",
       "      <td>3.473109</td>\n",
       "      <td>0.500004</td>\n",
       "      <td>3605.702545</td>\n",
       "    </tr>\n",
       "    <tr>\n",
       "      <th>min</th>\n",
       "      <td>1894.000000</td>\n",
       "      <td>0.000000</td>\n",
       "      <td>1.400000</td>\n",
       "      <td>9.0</td>\n",
       "      <td>1.000000</td>\n",
       "      <td>0.000000</td>\n",
       "      <td>0.000000</td>\n",
       "    </tr>\n",
       "    <tr>\n",
       "      <th>25%</th>\n",
       "      <td>1982.000000</td>\n",
       "      <td>0.000000</td>\n",
       "      <td>5.100000</td>\n",
       "      <td>827.0</td>\n",
       "      <td>2.000000</td>\n",
       "      <td>0.000000</td>\n",
       "      <td>3162.000000</td>\n",
       "    </tr>\n",
       "    <tr>\n",
       "      <th>50%</th>\n",
       "      <td>1998.000000</td>\n",
       "      <td>0.000000</td>\n",
       "      <td>6.300000</td>\n",
       "      <td>3197.0</td>\n",
       "      <td>4.000000</td>\n",
       "      <td>0.000000</td>\n",
       "      <td>6299.000000</td>\n",
       "    </tr>\n",
       "    <tr>\n",
       "      <th>75%</th>\n",
       "      <td>2004.000000</td>\n",
       "      <td>0.000000</td>\n",
       "      <td>7.100000</td>\n",
       "      <td>13974.0</td>\n",
       "      <td>9.000000</td>\n",
       "      <td>1.000000</td>\n",
       "      <td>9412.000000</td>\n",
       "    </tr>\n",
       "    <tr>\n",
       "      <th>max</th>\n",
       "      <td>2010.000000</td>\n",
       "      <td>1.000000</td>\n",
       "      <td>9.700000</td>\n",
       "      <td>1739448.0</td>\n",
       "      <td>10.000000</td>\n",
       "      <td>1.000000</td>\n",
       "      <td>12499.000000</td>\n",
       "    </tr>\n",
       "  </tbody>\n",
       "</table>\n",
       "</div>"
      ],
      "text/plain": [
       "         start_year      is_adult  average_rating         votes        rating  \\\n",
       "count  47331.000000  47331.000000    47329.000000       47329.0  47331.000000   \n",
       "mean    1989.631235      0.001732        5.998278  25562.917323      5.484608   \n",
       "std       19.600364      0.041587        1.494289  83670.039163      3.473109   \n",
       "min     1894.000000      0.000000        1.400000           9.0      1.000000   \n",
       "25%     1982.000000      0.000000        5.100000         827.0      2.000000   \n",
       "50%     1998.000000      0.000000        6.300000        3197.0      4.000000   \n",
       "75%     2004.000000      0.000000        7.100000       13974.0      9.000000   \n",
       "max     2010.000000      1.000000        9.700000     1739448.0     10.000000   \n",
       "\n",
       "                pos           idx  \n",
       "count  47331.000000  47331.000000  \n",
       "mean       0.498954   6279.697999  \n",
       "std        0.500004   3605.702545  \n",
       "min        0.000000      0.000000  \n",
       "25%        0.000000   3162.000000  \n",
       "50%        0.000000   6299.000000  \n",
       "75%        1.000000   9412.000000  \n",
       "max        1.000000  12499.000000  "
      ]
     },
     "execution_count": 6,
     "metadata": {},
     "output_type": "execute_result"
    }
   ],
   "source": [
    "#generate descriptive statistics for the numerical columns in the DataFrame \n",
    "df_reviews.describe()"
   ]
  },
  {
   "cell_type": "code",
   "execution_count": 7,
   "metadata": {},
   "outputs": [
    {
     "data": {
      "text/html": [
       "<div>\n",
       "<style scoped>\n",
       "    .dataframe tbody tr th:only-of-type {\n",
       "        vertical-align: middle;\n",
       "    }\n",
       "\n",
       "    .dataframe tbody tr th {\n",
       "        vertical-align: top;\n",
       "    }\n",
       "\n",
       "    .dataframe thead th {\n",
       "        text-align: right;\n",
       "    }\n",
       "</style>\n",
       "<table border=\"1\" class=\"dataframe\">\n",
       "  <thead>\n",
       "    <tr style=\"text-align: right;\">\n",
       "      <th></th>\n",
       "      <th>tconst</th>\n",
       "      <th>title_type</th>\n",
       "      <th>primary_title</th>\n",
       "      <th>original_title</th>\n",
       "      <th>start_year</th>\n",
       "      <th>end_year</th>\n",
       "      <th>runtime_minutes</th>\n",
       "      <th>is_adult</th>\n",
       "      <th>genres</th>\n",
       "      <th>average_rating</th>\n",
       "      <th>votes</th>\n",
       "      <th>review</th>\n",
       "      <th>rating</th>\n",
       "      <th>sp</th>\n",
       "      <th>pos</th>\n",
       "      <th>ds_part</th>\n",
       "      <th>idx</th>\n",
       "    </tr>\n",
       "  </thead>\n",
       "  <tbody>\n",
       "    <tr>\n",
       "      <th>0</th>\n",
       "      <td>tt0068152</td>\n",
       "      <td>movie</td>\n",
       "      <td>$</td>\n",
       "      <td>$</td>\n",
       "      <td>1971</td>\n",
       "      <td>\\N</td>\n",
       "      <td>121</td>\n",
       "      <td>0</td>\n",
       "      <td>Comedy,Crime,Drama</td>\n",
       "      <td>6.3</td>\n",
       "      <td>2218</td>\n",
       "      <td>The pakage implies that Warren Beatty and Gold...</td>\n",
       "      <td>1</td>\n",
       "      <td>neg</td>\n",
       "      <td>0</td>\n",
       "      <td>train</td>\n",
       "      <td>8335</td>\n",
       "    </tr>\n",
       "    <tr>\n",
       "      <th>1</th>\n",
       "      <td>tt0068152</td>\n",
       "      <td>movie</td>\n",
       "      <td>$</td>\n",
       "      <td>$</td>\n",
       "      <td>1971</td>\n",
       "      <td>\\N</td>\n",
       "      <td>121</td>\n",
       "      <td>0</td>\n",
       "      <td>Comedy,Crime,Drama</td>\n",
       "      <td>6.3</td>\n",
       "      <td>2218</td>\n",
       "      <td>How the hell did they get this made?! Presenti...</td>\n",
       "      <td>1</td>\n",
       "      <td>neg</td>\n",
       "      <td>0</td>\n",
       "      <td>train</td>\n",
       "      <td>8336</td>\n",
       "    </tr>\n",
       "    <tr>\n",
       "      <th>2</th>\n",
       "      <td>tt0313150</td>\n",
       "      <td>short</td>\n",
       "      <td>'15'</td>\n",
       "      <td>'15'</td>\n",
       "      <td>2002</td>\n",
       "      <td>\\N</td>\n",
       "      <td>25</td>\n",
       "      <td>0</td>\n",
       "      <td>Comedy,Drama,Short</td>\n",
       "      <td>6.3</td>\n",
       "      <td>184</td>\n",
       "      <td>There is no real story the film seems more lik...</td>\n",
       "      <td>3</td>\n",
       "      <td>neg</td>\n",
       "      <td>0</td>\n",
       "      <td>test</td>\n",
       "      <td>2489</td>\n",
       "    </tr>\n",
       "    <tr>\n",
       "      <th>3</th>\n",
       "      <td>tt0313150</td>\n",
       "      <td>short</td>\n",
       "      <td>'15'</td>\n",
       "      <td>'15'</td>\n",
       "      <td>2002</td>\n",
       "      <td>\\N</td>\n",
       "      <td>25</td>\n",
       "      <td>0</td>\n",
       "      <td>Comedy,Drama,Short</td>\n",
       "      <td>6.3</td>\n",
       "      <td>184</td>\n",
       "      <td>Um .... a serious film about troubled teens in...</td>\n",
       "      <td>7</td>\n",
       "      <td>pos</td>\n",
       "      <td>1</td>\n",
       "      <td>test</td>\n",
       "      <td>9280</td>\n",
       "    </tr>\n",
       "    <tr>\n",
       "      <th>4</th>\n",
       "      <td>tt0313150</td>\n",
       "      <td>short</td>\n",
       "      <td>'15'</td>\n",
       "      <td>'15'</td>\n",
       "      <td>2002</td>\n",
       "      <td>\\N</td>\n",
       "      <td>25</td>\n",
       "      <td>0</td>\n",
       "      <td>Comedy,Drama,Short</td>\n",
       "      <td>6.3</td>\n",
       "      <td>184</td>\n",
       "      <td>I'm totally agree with GarryJohal from Singapo...</td>\n",
       "      <td>9</td>\n",
       "      <td>pos</td>\n",
       "      <td>1</td>\n",
       "      <td>test</td>\n",
       "      <td>9281</td>\n",
       "    </tr>\n",
       "  </tbody>\n",
       "</table>\n",
       "</div>"
      ],
      "text/plain": [
       "      tconst title_type primary_title original_title  start_year end_year  \\\n",
       "0  tt0068152      movie             $              $        1971       \\N   \n",
       "1  tt0068152      movie             $              $        1971       \\N   \n",
       "2  tt0313150      short          '15'           '15'        2002       \\N   \n",
       "3  tt0313150      short          '15'           '15'        2002       \\N   \n",
       "4  tt0313150      short          '15'           '15'        2002       \\N   \n",
       "\n",
       "  runtime_minutes  is_adult              genres  average_rating  votes  \\\n",
       "0             121         0  Comedy,Crime,Drama             6.3   2218   \n",
       "1             121         0  Comedy,Crime,Drama             6.3   2218   \n",
       "2              25         0  Comedy,Drama,Short             6.3    184   \n",
       "3              25         0  Comedy,Drama,Short             6.3    184   \n",
       "4              25         0  Comedy,Drama,Short             6.3    184   \n",
       "\n",
       "                                              review  rating   sp  pos  \\\n",
       "0  The pakage implies that Warren Beatty and Gold...       1  neg    0   \n",
       "1  How the hell did they get this made?! Presenti...       1  neg    0   \n",
       "2  There is no real story the film seems more lik...       3  neg    0   \n",
       "3  Um .... a serious film about troubled teens in...       7  pos    1   \n",
       "4  I'm totally agree with GarryJohal from Singapo...       9  pos    1   \n",
       "\n",
       "  ds_part   idx  \n",
       "0   train  8335  \n",
       "1   train  8336  \n",
       "2    test  2489  \n",
       "3    test  9280  \n",
       "4    test  9281  "
      ]
     },
     "execution_count": 7,
     "metadata": {},
     "output_type": "execute_result"
    }
   ],
   "source": [
    "#Print the first rows of the Dataframe\n",
    "df_reviews.head()"
   ]
  },
  {
   "cell_type": "code",
   "execution_count": 8,
   "metadata": {},
   "outputs": [
    {
     "name": "stdout",
     "output_type": "stream",
     "text": [
      "0\n"
     ]
    }
   ],
   "source": [
    "#Find duplicated values \n",
    "print(df_reviews.duplicated().sum())"
   ]
  },
  {
   "cell_type": "markdown",
   "metadata": {},
   "source": [
    "## EDA"
   ]
  },
  {
   "cell_type": "markdown",
   "metadata": {},
   "source": [
    "Let's look at the number of films and reviews over the years."
   ]
  },
  {
   "cell_type": "markdown",
   "metadata": {},
   "source": [
    "Let's look at the distribution of the number of reviews per film with the exact counting and KDE (just to know how to differ from the exact counting)"
   ]
  },
  {
   "cell_type": "code",
   "execution_count": 9,
   "metadata": {},
   "outputs": [
    {
     "data": {
      "image/png": "[encoded data removed]",
      "text/plain": [
       "<Figure size 1600x500 with 2 Axes>"
      ]
     },
     "metadata": {},
     "output_type": "display_data"
    }
   ],
   "source": [
    "# Create a figure and a 1x2 grid of subplots with a larger figure size\n",
    "fig, axs = plt.subplots(1, 2, figsize=(16, 5))\n",
    "\n",
    "# Subplot 1: Bar chart for review counts\n",
    "ax = axs[0]  # Select the first subplot\n",
    "\n",
    "# Calculate review counts for each movie (tconst) and sort by frequency\n",
    "dft = df_reviews.groupby('tconst')['review'].count() \\\n",
    "    .value_counts() \\\n",
    "    .sort_index()\n",
    "\n",
    "# Create a bar chart to visualize the review count distribution\n",
    "dft.plot.bar(ax=ax)\n",
    "\n",
    "# Set a title for the bar chart\n",
    "ax.set_title('Bar Chart of Reviews per Movie')\n",
    "\n",
    "# Subplot 2: KDE plot for review counts\n",
    "ax = axs[1]  # Select the second subplot\n",
    "\n",
    "# Calculate review counts for each movie (tconst)\n",
    "dft = df_reviews.groupby('tconst')['review'].count()\n",
    "\n",
    "# Create a KDE plot to visualize the density distribution of review counts using seaborn\n",
    "sns.kdeplot(dft, ax=ax)\n",
    "\n",
    "# Set a title for the KDE plot\n",
    "ax.set_title('KDE Plot of Reviews per Movie')\n",
    "\n",
    "# Adjust spacing between subplots to avoid overlapping elements\n",
    "fig.tight_layout()\n",
    "\n",
    "# Display the figure with subplots\n",
    "plt.show()"
   ]
  },
  {
   "cell_type": "code",
   "execution_count": 10,
   "metadata": {},
   "outputs": [
    {
     "data": {
      "text/plain": [
       "pos\n",
       "0    23715\n",
       "1    23616\n",
       "Name: count, dtype: int64"
      ]
     },
     "execution_count": 10,
     "metadata": {},
     "output_type": "execute_result"
    }
   ],
   "source": [
    "#Count the values of the Pos column \n",
    "df_reviews['pos'].value_counts()"
   ]
  },
  {
   "cell_type": "code",
   "execution_count": 11,
   "metadata": {},
   "outputs": [
    {
     "data": {
      "image/png": "[encoded data removed]",
      "text/plain": [
       "<Figure size 1200x400 with 2 Axes>"
      ]
     },
     "metadata": {},
     "output_type": "display_data"
    }
   ],
   "source": [
    "# Create a figure and two subplots (one for training data, one for test data)\n",
    "fig, axs = plt.subplots(1, 2, figsize=(12, 4))  # 1 row, 2 columns, figure size 12x4\n",
    "\n",
    "# Prepare data for training set distribution plot\n",
    "ax = axs[0]  # Select the first subplot (axs[0])\n",
    "dft = df_reviews.query('ds_part == \"train\"')['rating'].value_counts().sort_index()  # Count rating frequencies in training set\n",
    "dft = dft.reindex(index=np.arange(min(dft.index.min(), 1), max(dft.index.max(), 11))).fillna(0)  # Ensure all ratings (1-10) are included, filling missing values with 0\n",
    "dft.plot.bar(ax=ax)  # Create a bar chart to visualize rating distribution on ax\n",
    "\n",
    "# Set limits and title for training set distribution plot\n",
    "ax.set_ylim([0, 5000])  # Set y-axis limits (0 to 5000)\n",
    "ax.set_title('Training Set: Distribution of Ratings')  # Set plot title\n",
    "\n",
    "# Prepare data for test set distribution plot\n",
    "ax = axs[1]  # Select the second subplot (axs[1])\n",
    "dft = df_reviews.query('ds_part == \"test\"')['rating'].value_counts().sort_index()  # Count rating frequencies in test set\n",
    "dft = dft.reindex(index=np.arange(min(dft.index.min(), 1), max(dft.index.max(), 11))).fillna(0)  # Ensure all ratings (1-10) are included, filling missing values with 0\n",
    "dft.plot.bar(ax=ax)  # Create a bar chart to visualize rating distribution on ax\n",
    "\n",
    "# Set limits and title for test set distribution plot\n",
    "ax.set_ylim([0, 5000])  # Set y-axis limits (0 to 5000)\n",
    "ax.set_title('Test Set: Distribution of Ratings')  # Set plot title\n",
    "\n",
    "# Adjust layout to prevent overlapping elements\n",
    "fig.tight_layout()  # Adjust spacing between subplots and labels\n",
    "\n",
    "# Display the plot\n",
    "plt.show()  # You can also save the figure using plt.savefig('rating_distribution.png')"
   ]
  },
  {
   "cell_type": "markdown",
   "metadata": {},
   "source": [
    "Distribution of negative and positive reviews over the years for two parts of the data set"
   ]
  },
  {
   "cell_type": "code",
   "execution_count": 12,
   "metadata": {},
   "outputs": [
    {
     "name": "stderr",
     "output_type": "stream",
     "text": [
      "/var/folders/zz/1lh114c55jj9tjb2vztk4z340000gq/T/ipykernel_26823/915145223.py:14: UserWarning: \n",
      "\n",
      "Support for alternate kernels has been removed; using Gaussian kernel.\n",
      "This will become an error in seaborn v0.14.0; please update your code.\n",
      "\n",
      "  sns.kdeplot(dft[0], color='blue', label='negative', kernel='epa', ax=ax)\n",
      "/var/folders/zz/1lh114c55jj9tjb2vztk4z340000gq/T/ipykernel_26823/915145223.py:15: UserWarning: \n",
      "\n",
      "Support for alternate kernels has been removed; using Gaussian kernel.\n",
      "This will become an error in seaborn v0.14.0; please update your code.\n",
      "\n",
      "  sns.kdeplot(dft[1], color='green', label='positive', kernel='epa', ax=ax)\n",
      "/var/folders/zz/1lh114c55jj9tjb2vztk4z340000gq/T/ipykernel_26823/915145223.py:30: UserWarning: \n",
      "\n",
      "Support for alternate kernels has been removed; using Gaussian kernel.\n",
      "This will become an error in seaborn v0.14.0; please update your code.\n",
      "\n",
      "  sns.kdeplot(dft[0], color='blue', label='negative', kernel='epa', ax=ax)\n",
      "/var/folders/zz/1lh114c55jj9tjb2vztk4z340000gq/T/ipykernel_26823/915145223.py:31: UserWarning: \n",
      "\n",
      "Support for alternate kernels has been removed; using Gaussian kernel.\n",
      "This will become an error in seaborn v0.14.0; please update your code.\n",
      "\n",
      "  sns.kdeplot(dft[1], color='green', label='positive', kernel='epa', ax=ax)\n"
     ]
    },
    {
     "data": {
      "image/png": "[encoded data removed]",
      "text/plain": [
       "<Figure size 2000x1000 with 4 Axes>"
      ]
     },
     "metadata": {},
     "output_type": "display_data"
    }
   ],
   "source": [
    "fig, axs = plt.subplots(2, 2, figsize=(20, 10), gridspec_kw=dict(width_ratios=(3, 1), height_ratios=(1, 1)))\n",
    "\n",
    "# Top Left: Number of reviews per year and polarity (training set)\n",
    "ax = axs[0][0]\n",
    "dft = df_reviews.query('ds_part == \"train\"').groupby(['start_year', 'pos'])['pos'].count().unstack()\n",
    "dft.index = dft.index.astype('int')\n",
    "dft = dft.reindex(index=np.arange(dft.index.min(), max(dft.index.max(), 2020))).fillna(0)\n",
    "dft.plot(kind='bar', stacked=True, ax=ax)\n",
    "ax.set_title('The training set: number of reviews of different polarities per year')\n",
    "\n",
    "# Top Right: Distribution of polarities per movie (training set)\n",
    "ax = axs[0][1]\n",
    "dft = df_reviews.query('ds_part == \"train\"').groupby(['tconst', 'pos'])['pos'].count().unstack()\n",
    "sns.kdeplot(dft[0], color='blue', label='negative', kernel='epa', ax=ax)\n",
    "sns.kdeplot(dft[1], color='green', label='positive', kernel='epa', ax=ax)\n",
    "ax.legend()\n",
    "ax.set_title('The training set: distribution of different polarities per film')\n",
    "\n",
    "# Bottom Left: Number of reviews per year and polarity (test set)\n",
    "ax = axs[1][0]\n",
    "dft = df_reviews.query('ds_part == \"test\"').groupby(['start_year', 'pos'])['pos'].count().unstack()\n",
    "dft.index = dft.index.astype('int')\n",
    "dft = dft.reindex(index=np.arange(dft.index.min(), max(dft.index.max(), 2020))).fillna(0)\n",
    "dft.plot(kind='bar', stacked=True, ax=ax)\n",
    "ax.set_title('The testing set: number of reviews of different polarities per year ')\n",
    "\n",
    "# Bottom Right: Distribution of polarities per movie (test set)\n",
    "ax = axs[1][1]\n",
    "dft = df_reviews.query('ds_part == \"test\"').groupby(['tconst', 'pos'])['pos'].count().unstack()\n",
    "sns.kdeplot(dft[0], color='blue', label='negative', kernel='epa', ax=ax)\n",
    "sns.kdeplot(dft[1], color='green', label='positive', kernel='epa', ax=ax)\n",
    "ax.legend()\n",
    "ax.set_title ('The testing set: distribution of different polarities per film')\n",
    "\n",
    "fig.tight_layout()\n",
    "# Display the plot\n",
    "plt.show()"
   ]
  },
  {
   "cell_type": "markdown",
   "metadata": {},
   "source": [
    "## Evaluation procedure"
   ]
  },
  {
   "cell_type": "markdown",
   "metadata": {},
   "source": [
    "Composing an evaluation routine that can be used for all models in this project"
   ]
  },
  {
   "cell_type": "code",
   "execution_count": 13,
   "metadata": {},
   "outputs": [],
   "source": [
    "def evaluate_model(model, train_features, train_target, test_features, test_target):\n",
    "    \"\"\"\n",
    "    This function evaluates the performance of a binary classification model on both training and test data. \n",
    "    It calculates and plots various metrics, including F1-score, ROC AUC, and Average Precision Score.\n",
    "\n",
    "    Args:\n",
    "        model: The trained classification model object.\n",
    "        train_features: Features for the training data.\n",
    "        train_target: True labels for the training data.\n",
    "        test_features: Features for the test data.\n",
    "        test_target: True labels for the test data.\n",
    "\n",
    "    Returns:\n",
    "        A pandas DataFrame containing the calculated evaluation metrics for both training and test data.\n",
    "    \"\"\"\n",
    "\n",
    "    eval_stats = {}\n",
    "\n",
    "    fig, axs = plt.subplots(1, 3, figsize=(20, 6)) \n",
    "\n",
    "    for type, features, target in (('train', train_features, train_target), \n",
    "                                   ('test', test_features, test_target)):\n",
    "\n",
    "        eval_stats[type] = {}\n",
    "\n",
    "        # Predict probabilities for the current data\n",
    "        pred_proba = model.predict_proba(features)[:, 1] \n",
    "        # Predict class labels\n",
    "        pred_target = model.predict(features) \n",
    "\n",
    "        # Calculate F1-score for different thresholds\n",
    "        f1_thresholds = np.arange(0, 1.01, 0.05)\n",
    "        f1_scores = [metrics.f1_score(target, pred_proba >= threshold) for threshold in f1_thresholds]\n",
    "\n",
    "        # Calculate ROC AUC\n",
    "        fpr, tpr, roc_thresholds = metrics.roc_curve(target, pred_proba)\n",
    "        roc_auc = metrics.roc_auc_score(target, pred_proba)    \n",
    "        eval_stats[type]['ROC AUC'] = roc_auc\n",
    "\n",
    "        # Calculate Average Precision Score (APS)\n",
    "        precision, recall, pr_thresholds = metrics.precision_recall_curve(target, pred_proba)\n",
    "        aps = metrics.average_precision_score(target, pred_proba)\n",
    "        eval_stats[type]['APS'] = aps\n",
    "\n",
    "        # Plot F1-score vs. threshold\n",
    "        ax = axs[0]\n",
    "        max_f1_score_idx = np.argmax(f1_scores)\n",
    "        ax.plot(f1_thresholds, f1_scores, color='blue' if type == 'train' else 'green', \n",
    "                label=f'{type}, max={f1_scores[max_f1_score_idx]:.2f} @ {f1_thresholds[max_f1_score_idx]:.2f}')\n",
    "        # Plot markers for specific thresholds\n",
    "        for threshold in (0.2, 0.4, 0.5, 0.6, 0.8):\n",
    "            closest_value_idx = np.argmin(np.abs(f1_thresholds - threshold))\n",
    "            marker_color = 'orange' if threshold != 0.5 else 'red'\n",
    "            ax.plot(f1_thresholds[closest_value_idx], f1_scores[closest_value_idx], \n",
    "                    color=marker_color, marker='X', markersize=7)\n",
    "        ax.set_xlim([-0.02, 1.02])\n",
    "        ax.set_ylim([-0.02, 1.02])\n",
    "        ax.set_xlabel('Threshold')\n",
    "        ax.set_ylabel('F1-score')\n",
    "        ax.legend(loc='lower center')\n",
    "        ax.set_title('F1-score vs. Threshold')\n",
    "\n",
    "        # Plot ROC curve\n",
    "        ax = axs[1]\n",
    "        ax.plot(fpr, tpr, color='blue' if type == 'train' else 'green', \n",
    "                label=f'{type}, ROC AUC={roc_auc:.2f}')\n",
    "        # Plot markers for specific thresholds\n",
    "        for threshold in (0.2, 0.4, 0.5, 0.6, 0.8):\n",
    "            closest_value_idx = np.argmin(np.abs(roc_thresholds - threshold))\n",
    "            marker_color = 'orange' if threshold != 0.5 else 'red'\n",
    "            ax.plot(fpr[closest_value_idx], tpr[closest_value_idx], \n",
    "                    color=marker_color, marker='X', markersize=7)\n",
    "        ax.plot([0, 1], [0, 1], color='grey', linestyle='--')\n",
    "        ax.set_xlim([-0.02, 1.02])\n",
    "        ax.set_ylim([-0.02, 1.02])\n",
    "        ax.set_xlabel('False Positive Rate (FPR)')\n",
    "        ax.set_ylabel('True Positive Rate (TPR)')\n",
    "        ax.legend(loc='lower center')\n",
    "        ax.set_title('ROC Curve')\n",
    "\n",
    "        # Plot Precision-Recall Curve\n",
    "        ax = axs[2]\n",
    "        ax.plot(recall, precision, color='blue' if type == 'train' else 'green', \n",
    "                label=f'{type}, AP={aps:.2f}')\n",
    "        # Plot markers for specific thresholds\n",
    "        for threshold in (0.2, 0.4, 0.5, 0.6, 0.8):\n",
    "            closest_value_idx = np.argmin(np.abs(pr_thresholds - threshold))\n",
    "            marker_color = 'orange' if threshold != 0.5 else 'red'\n",
    "            ax.plot(recall[closest_value_idx], precision[closest_value_idx], \n",
    "                    color=marker_color, marker='X', markersize=7)\n",
    "        ax.set_xlim([-0.02, 1.02])\n",
    "        ax.set_ylim([-0.02, 1.02])\n",
    "        ax.set_xlabel('Recall')\n",
    "        ax.set_ylabel('Precision')\n",
    "        ax.legend(loc='lower center')\n",
    "        ax.set_title('Precision-Recall Curve')\n",
    "\n",
    "        # Calculate Accuracy and F1-score\n",
    "        eval_stats[type]['Accuracy'] = metrics.accuracy_score(target, pred_target)\n",
    "        eval_stats[type]['F1'] = metrics.f1_score(target, pred_target)\n",
    "\n",
    "    # Create a DataFrame to store evaluation metrics\n",
    "    df_eval_stats = pd.DataFrame(eval_stats)\n",
    "    df_eval_stats = df_eval_stats.round(2) \n",
    "    df_eval_stats = df_eval_stats.reindex(index=('Accuracy', 'F1', 'APS', 'ROC AUC')) \n",
    "\n",
    "    print(df_eval_stats)\n",
    "    return df_eval_stats"
   ]
  },
  {
   "cell_type": "markdown",
   "metadata": {},
   "source": [
    "## Normalization"
   ]
  },
  {
   "cell_type": "markdown",
   "metadata": {},
   "source": [
    "We assume that all models below accept texts in lowercase and without digits, punctuation marks, etc."
   ]
  },
  {
   "cell_type": "code",
   "execution_count": 14,
   "metadata": {},
   "outputs": [
    {
     "data": {
      "text/html": [
       "<div>\n",
       "<style scoped>\n",
       "    .dataframe tbody tr th:only-of-type {\n",
       "        vertical-align: middle;\n",
       "    }\n",
       "\n",
       "    .dataframe tbody tr th {\n",
       "        vertical-align: top;\n",
       "    }\n",
       "\n",
       "    .dataframe thead th {\n",
       "        text-align: right;\n",
       "    }\n",
       "</style>\n",
       "<table border=\"1\" class=\"dataframe\">\n",
       "  <thead>\n",
       "    <tr style=\"text-align: right;\">\n",
       "      <th></th>\n",
       "      <th>tconst</th>\n",
       "      <th>title_type</th>\n",
       "      <th>primary_title</th>\n",
       "      <th>original_title</th>\n",
       "      <th>start_year</th>\n",
       "      <th>end_year</th>\n",
       "      <th>runtime_minutes</th>\n",
       "      <th>is_adult</th>\n",
       "      <th>genres</th>\n",
       "      <th>average_rating</th>\n",
       "      <th>votes</th>\n",
       "      <th>review</th>\n",
       "      <th>rating</th>\n",
       "      <th>sp</th>\n",
       "      <th>pos</th>\n",
       "      <th>ds_part</th>\n",
       "      <th>idx</th>\n",
       "    </tr>\n",
       "  </thead>\n",
       "  <tbody>\n",
       "    <tr>\n",
       "      <th>0</th>\n",
       "      <td>tt0068152</td>\n",
       "      <td>movie</td>\n",
       "      <td>$</td>\n",
       "      <td>$</td>\n",
       "      <td>1971</td>\n",
       "      <td>\\N</td>\n",
       "      <td>121</td>\n",
       "      <td>0</td>\n",
       "      <td>Comedy,Crime,Drama</td>\n",
       "      <td>6.3</td>\n",
       "      <td>2218</td>\n",
       "      <td>The pakage implies that Warren Beatty and Gold...</td>\n",
       "      <td>1</td>\n",
       "      <td>neg</td>\n",
       "      <td>0</td>\n",
       "      <td>train</td>\n",
       "      <td>8335</td>\n",
       "    </tr>\n",
       "    <tr>\n",
       "      <th>1</th>\n",
       "      <td>tt0068152</td>\n",
       "      <td>movie</td>\n",
       "      <td>$</td>\n",
       "      <td>$</td>\n",
       "      <td>1971</td>\n",
       "      <td>\\N</td>\n",
       "      <td>121</td>\n",
       "      <td>0</td>\n",
       "      <td>Comedy,Crime,Drama</td>\n",
       "      <td>6.3</td>\n",
       "      <td>2218</td>\n",
       "      <td>How the hell did they get this made?! Presenti...</td>\n",
       "      <td>1</td>\n",
       "      <td>neg</td>\n",
       "      <td>0</td>\n",
       "      <td>train</td>\n",
       "      <td>8336</td>\n",
       "    </tr>\n",
       "    <tr>\n",
       "      <th>2</th>\n",
       "      <td>tt0313150</td>\n",
       "      <td>short</td>\n",
       "      <td>'15'</td>\n",
       "      <td>'15'</td>\n",
       "      <td>2002</td>\n",
       "      <td>\\N</td>\n",
       "      <td>25</td>\n",
       "      <td>0</td>\n",
       "      <td>Comedy,Drama,Short</td>\n",
       "      <td>6.3</td>\n",
       "      <td>184</td>\n",
       "      <td>There is no real story the film seems more lik...</td>\n",
       "      <td>3</td>\n",
       "      <td>neg</td>\n",
       "      <td>0</td>\n",
       "      <td>test</td>\n",
       "      <td>2489</td>\n",
       "    </tr>\n",
       "    <tr>\n",
       "      <th>3</th>\n",
       "      <td>tt0313150</td>\n",
       "      <td>short</td>\n",
       "      <td>'15'</td>\n",
       "      <td>'15'</td>\n",
       "      <td>2002</td>\n",
       "      <td>\\N</td>\n",
       "      <td>25</td>\n",
       "      <td>0</td>\n",
       "      <td>Comedy,Drama,Short</td>\n",
       "      <td>6.3</td>\n",
       "      <td>184</td>\n",
       "      <td>Um .... a serious film about troubled teens in...</td>\n",
       "      <td>7</td>\n",
       "      <td>pos</td>\n",
       "      <td>1</td>\n",
       "      <td>test</td>\n",
       "      <td>9280</td>\n",
       "    </tr>\n",
       "    <tr>\n",
       "      <th>4</th>\n",
       "      <td>tt0313150</td>\n",
       "      <td>short</td>\n",
       "      <td>'15'</td>\n",
       "      <td>'15'</td>\n",
       "      <td>2002</td>\n",
       "      <td>\\N</td>\n",
       "      <td>25</td>\n",
       "      <td>0</td>\n",
       "      <td>Comedy,Drama,Short</td>\n",
       "      <td>6.3</td>\n",
       "      <td>184</td>\n",
       "      <td>I'm totally agree with GarryJohal from Singapo...</td>\n",
       "      <td>9</td>\n",
       "      <td>pos</td>\n",
       "      <td>1</td>\n",
       "      <td>test</td>\n",
       "      <td>9281</td>\n",
       "    </tr>\n",
       "  </tbody>\n",
       "</table>\n",
       "</div>"
      ],
      "text/plain": [
       "      tconst title_type primary_title original_title  start_year end_year  \\\n",
       "0  tt0068152      movie             $              $        1971       \\N   \n",
       "1  tt0068152      movie             $              $        1971       \\N   \n",
       "2  tt0313150      short          '15'           '15'        2002       \\N   \n",
       "3  tt0313150      short          '15'           '15'        2002       \\N   \n",
       "4  tt0313150      short          '15'           '15'        2002       \\N   \n",
       "\n",
       "  runtime_minutes  is_adult              genres  average_rating  votes  \\\n",
       "0             121         0  Comedy,Crime,Drama             6.3   2218   \n",
       "1             121         0  Comedy,Crime,Drama             6.3   2218   \n",
       "2              25         0  Comedy,Drama,Short             6.3    184   \n",
       "3              25         0  Comedy,Drama,Short             6.3    184   \n",
       "4              25         0  Comedy,Drama,Short             6.3    184   \n",
       "\n",
       "                                              review  rating   sp  pos  \\\n",
       "0  The pakage implies that Warren Beatty and Gold...       1  neg    0   \n",
       "1  How the hell did they get this made?! Presenti...       1  neg    0   \n",
       "2  There is no real story the film seems more lik...       3  neg    0   \n",
       "3  Um .... a serious film about troubled teens in...       7  pos    1   \n",
       "4  I'm totally agree with GarryJohal from Singapo...       9  pos    1   \n",
       "\n",
       "  ds_part   idx  \n",
       "0   train  8335  \n",
       "1   train  8336  \n",
       "2    test  2489  \n",
       "3    test  9280  \n",
       "4    test  9281  "
      ]
     },
     "execution_count": 14,
     "metadata": {},
     "output_type": "execute_result"
    }
   ],
   "source": [
    "df_reviews.head()"
   ]
  },
  {
   "cell_type": "code",
   "execution_count": 15,
   "metadata": {},
   "outputs": [
    {
     "name": "stdout",
     "output_type": "stream",
     "text": [
      "<class 'pandas.core.frame.DataFrame'>\n",
      "RangeIndex: 47331 entries, 0 to 47330\n",
      "Data columns (total 17 columns):\n",
      " #   Column           Non-Null Count  Dtype  \n",
      "---  ------           --------------  -----  \n",
      " 0   tconst           47331 non-null  object \n",
      " 1   title_type       47331 non-null  object \n",
      " 2   primary_title    47331 non-null  object \n",
      " 3   original_title   47331 non-null  object \n",
      " 4   start_year       47331 non-null  int64  \n",
      " 5   end_year         47331 non-null  object \n",
      " 6   runtime_minutes  47331 non-null  object \n",
      " 7   is_adult         47331 non-null  int64  \n",
      " 8   genres           47331 non-null  object \n",
      " 9   average_rating   47329 non-null  float64\n",
      " 10  votes            47329 non-null  Int64  \n",
      " 11  review           47331 non-null  object \n",
      " 12  rating           47331 non-null  int64  \n",
      " 13  sp               47331 non-null  object \n",
      " 14  pos              47331 non-null  int64  \n",
      " 15  ds_part          47331 non-null  object \n",
      " 16  idx              47331 non-null  int64  \n",
      "dtypes: Int64(1), float64(1), int64(5), object(10)\n",
      "memory usage: 6.2+ MB\n"
     ]
    }
   ],
   "source": [
    "df_reviews.info()"
   ]
  },
  {
   "cell_type": "code",
   "execution_count": 16,
   "metadata": {},
   "outputs": [
    {
     "data": {
      "text/plain": [
       "0        The pakage implies that Warren Beatty and Gold...\n",
       "1        How the hell did they get this made Presenting...\n",
       "2        There is no real story the film seems more lik...\n",
       "3        Um a serious film about troubled teens in Sing...\n",
       "4        I'm totally agree with GarryJohal from Singapo...\n",
       "                               ...                        \n",
       "47326    This is another of my favorite Columbos It spo...\n",
       "47327    Talk about being boring I got this expecting a...\n",
       "47328    I never thought I'd say this about a biopic bu...\n",
       "47329    Spirit and Chaos is an artistic biopic of Miya...\n",
       "47330    I'll make this brief This was a joy to watch I...\n",
       "Name: review_norm, Length: 47331, dtype: object"
      ]
     },
     "execution_count": 16,
     "metadata": {},
     "output_type": "execute_result"
    }
   ],
   "source": [
    "def clear_text(text):\n",
    "    \"\"\"\n",
    "    This function cleans the input text by removing all characters \n",
    "    except for letters (a-z, A-Z) and single quotes (').\n",
    "\n",
    "    Args:\n",
    "        text (str): The input text string.\n",
    "\n",
    "    Returns:\n",
    "        str: The cleaned text string.\n",
    "    \"\"\"\n",
    "\n",
    "    pattern = r\"[^a-zA-Z']\"  # Regular expression to match any character that is not a letter or single quote\n",
    "    texto = re.sub(pattern, \" \", text)  # Replace all non-letter/non-quote characters with a space\n",
    "    return \" \".join(texto.split())  # Remove extra spaces and return the cleaned text\n",
    "\n",
    "# Apply the clear_text function to the 'review' column of the DataFrame\n",
    "df_reviews['review_norm'] = df_reviews['review'].apply(clear_text) \n",
    "\n",
    "# Display the cleaned 'review_norm' column\n",
    "df_reviews['review_norm']"
   ]
  },
  {
   "cell_type": "markdown",
   "metadata": {},
   "source": [
    "## Training/test division"
   ]
  },
  {
   "cell_type": "markdown",
   "metadata": {},
   "source": [
    "Fortunately, the entire data set is already divided into training/testing parts; 'ds_part' is the corresponding flag."
   ]
  },
  {
   "cell_type": "code",
   "execution_count": 17,
   "metadata": {},
   "outputs": [
    {
     "name": "stdout",
     "output_type": "stream",
     "text": [
      "(23796, 18)\n",
      "(23535, 18)\n"
     ]
    }
   ],
   "source": [
    "# Create separate DataFrames for the training and testing datasets.\n",
    "# This is done by filtering the original DataFrame 'df_reviews' based on the 'ds_part' column,\n",
    "# which indicates whether a row belongs to the training or test set.\n",
    "df_reviews_train = df_reviews.query('ds_part == \"train\"').copy()\n",
    "df_reviews_test = df_reviews.query('ds_part == \"test\"').copy()\n",
    "\n",
    "# Extract the target variable 'pos' (presumably indicating positive/negative review)\n",
    "# from the training and testing DataFrames, and store them in separate variables.\n",
    "train_target_complete = df_reviews_train['pos']\n",
    "test_target_complete = df_reviews_test['pos']\n",
    "\n",
    "# Print the shapes (number of rows and columns) of the training and testing DataFrames.\n",
    "# This is useful for verifying the size of the datasets after the split.\n",
    "print(df_reviews_train.shape)\n",
    "print(df_reviews_test.shape)"
   ]
  },
  {
   "cell_type": "markdown",
   "metadata": {},
   "source": [
    "### Oversampling process"
   ]
  },
  {
   "cell_type": "code",
   "execution_count": 18,
   "metadata": {},
   "outputs": [
    {
     "name": "stdout",
     "output_type": "stream",
     "text": [
      "pos\n",
      "0    11912\n",
      "1    11912\n",
      "Name: count, dtype: int64\n",
      "pos\n",
      "0    11803\n",
      "1    11803\n",
      "Name: count, dtype: int64\n"
     ]
    }
   ],
   "source": [
    "import pandas as pd\n",
    "from sklearn.utils import resample\n",
    "\n",
    "def random_oversampling(df, target_column):\n",
    "    \"\"\"\n",
    "    Performs random oversampling on a DataFrame.\n",
    "\n",
    "    Args:\n",
    "        df (pd.DataFrame): DataFrame containing the data.\n",
    "        target_column (str): Name of the target column.\n",
    "\n",
    "    Returns:\n",
    "        pd.DataFrame: DataFrame with oversampling applied.\n",
    "    \"\"\"\n",
    "    # Separate the majority and minority classes\n",
    "    majority_class = df[df[target_column] == df[target_column].value_counts().idxmax()]\n",
    "    minority_class = df[df[target_column] == df[target_column].value_counts().idxmin()]\n",
    "\n",
    "    # Oversample the minority class\n",
    "    minority_upsampled = resample(minority_class,\n",
    "                                  replace=True,  # Allow sampling with replacement\n",
    "                                  n_samples=len(majority_class), # Match the number of samples in the majority class\n",
    "                                  random_state=42) # Set a fixed random seed for reproducibility\n",
    "\n",
    "    # Combine the oversampled minority class with the majority class\n",
    "    upsampled_df = pd.concat([majority_class, minority_upsampled])\n",
    "\n",
    "    return upsampled_df\n",
    "\n",
    "# Example usage:\n",
    "# 'df_reviews_train' and 'df_reviews_test' are DataFrames, and 'pos' is the target column\n",
    "upsampled_reviews_train = random_oversampling(df_reviews_train, 'pos')\n",
    "upsampled_reviews_test = random_oversampling(df_reviews_test, 'pos')\n",
    "\n",
    "# Print the value counts of the target column in the oversampled training and test sets\n",
    "print(upsampled_reviews_train['pos'].value_counts())\n",
    "print(upsampled_reviews_test['pos'].value_counts())"
   ]
  },
  {
   "cell_type": "code",
   "execution_count": 19,
   "metadata": {},
   "outputs": [],
   "source": [
    "# Assign the 'pos' (positive/negative label) column from the oversampled training DataFrame\n",
    "# to the train_target variable. This represents the target labels for the training set.\n",
    "train_target = upsampled_reviews_train['pos']\n",
    "\n",
    "# Assign the 'pos' column from the oversampled test DataFrame\n",
    "# to the test_target variable. This represents the target labels for the test set.\n",
    "test_target = upsampled_reviews_test['pos']\n",
    "\n",
    "# Assign the 'review_norm' (normalized review text) column from the oversampled training DataFrame\n",
    "# to the train variable. This represents the feature data (text) for the training set.\n",
    "train = upsampled_reviews_train['review_norm']\n",
    "\n",
    "# Assign the 'review_norm' column from the oversampled test DataFrame\n",
    "# to the test variable. This represents the feature data (text) for the test set.\n",
    "test = upsampled_reviews_test['review_norm']"
   ]
  },
  {
   "cell_type": "code",
   "execution_count": 20,
   "metadata": {},
   "outputs": [
    {
     "name": "stdout",
     "output_type": "stream",
     "text": [
      "Longitud de train: 23824\n",
      "Longitud de train_target: 23824\n",
      "Longitud de test: 23606\n",
      "Longitud de test_target: 23606\n",
      "y_train: pos\n",
      "1    18972\n",
      "0    18972\n",
      "Name: count, dtype: int64\n",
      "y_test: pos\n",
      "1    4743\n",
      "0    4743\n",
      "Name: count, dtype: int64\n"
     ]
    }
   ],
   "source": [
    "import pandas as pd\n",
    "from sklearn.model_selection import train_test_split\n",
    "from sklearn.utils import shuffle\n",
    "\n",
    "# 1. Reset indices and verify lengths\n",
    "train = train.reset_index(drop=True)  # Reset the index of the 'train' Series to a sequential numeric index, discarding the old index.\n",
    "train_target = train_target.reset_index(drop=True) # Reset the index of the 'train_target' Series.\n",
    "test = test.reset_index(drop=True) # Reset the index of the 'test' Series.\n",
    "test_target = test_target.reset_index(drop=True) # Reset the index of the 'test_target' Series.\n",
    "\n",
    "print(\"Longitud de train:\", len(train)) # Print the length of the 'train' Series.\n",
    "print(\"Longitud de train_target:\", len(train_target)) # Print the length of the 'train_target' Series.\n",
    "print(\"Longitud de test:\", len(test)) # Print the length of the 'test' Series.\n",
    "print(\"Longitud de test_target:\", len(test_target)) # Print the length of the 'test_target' Series.\n",
    "\n",
    "# 2. Create a DataFrame for training data\n",
    "train_df = pd.DataFrame({'review_norm': train, 'pos': train_target}) # Create a DataFrame 'train_df' with 'review_norm' and 'pos' columns from the 'train' and 'train_target' Series.\n",
    "\n",
    "# 3. Create a DataFrame for test data\n",
    "test_df = pd.DataFrame({'review_norm': test, 'pos': test_target}) # Create a DataFrame 'test_df' with 'review_norm' and 'pos' columns from the 'test' and 'test_target' Series.\n",
    "\n",
    "# 4. Combine the training and test DataFrames\n",
    "combined_df = pd.concat([train_df, test_df], ignore_index=True) # Concatenate 'train_df' and 'test_df' into a single DataFrame 'combined_df', resetting the index.\n",
    "\n",
    "# 5. Shuffle the combined DataFrame\n",
    "combined_df_shuffled = shuffle(combined_df, random_state=42) # Shuffle the rows of 'combined_df' randomly, using a fixed random state for reproducibility.\n",
    "\n",
    "# 6. Separate features (X) and target variable (y)\n",
    "X = combined_df_shuffled['review_norm'] # Extract the 'review_norm' column as the feature 'X'.\n",
    "y = combined_df_shuffled['pos'] # Extract the 'pos' column as the target variable 'y'.\n",
    "\n",
    "# 7. Split the shuffled data into training and test sets\n",
    "X_train, X_test, y_train, y_test = train_test_split(X, y, test_size=0.2, stratify=y, random_state=42) # Split 'X' and 'y' into training and test sets, using 20% for testing, stratifying by 'y', and using a fixed random state.\n",
    "\n",
    "# 8. Verify class distribution in training and test sets\n",
    "print(\"y_train:\", pd.Series(y_train).value_counts()) # Print the class distribution of 'y_train'.\n",
    "print(\"y_test:\", pd.Series(y_test).value_counts()) # Print the class distribution of 'y_test'.\n",
    "\n",
    "# 9. Reassign values to original variables (if necessary)\n",
    "train = X_train.iloc[0:201] # Select the first 201 rows of 'X_train' and assign them to 'train'.\n",
    "test = X_test.iloc[0:201] # Select the first 201 rows of 'X_test' and assign them to 'test'.\n",
    "train_target = y_train.iloc[0:201] # Select the first 201 rows of 'y_train' and assign them to 'train_target'.\n",
    "test_target = y_test.iloc[0:201] # Select the first 201 rows of 'y_test' and assign them to 'test_target'."
   ]
  },
  {
   "cell_type": "code",
   "execution_count": 21,
   "metadata": {},
   "outputs": [
    {
     "name": "stdout",
     "output_type": "stream",
     "text": [
      "(201,)\n",
      "(201,)\n",
      "(201,)\n",
      "(201,)\n"
     ]
    }
   ],
   "source": [
    "print(train.shape)\n",
    "print(test.shape)\n",
    "print(train_target.shape)\n",
    "print(test_target.shape)"
   ]
  },
  {
   "cell_type": "code",
   "execution_count": 22,
   "metadata": {},
   "outputs": [
    {
     "name": "stdout",
     "output_type": "stream",
     "text": [
      "pos\n",
      "1    105\n",
      "0     96\n",
      "Name: count, dtype: int64\n"
     ]
    }
   ],
   "source": [
    "print(train_target.value_counts())"
   ]
  },
  {
   "cell_type": "markdown",
   "metadata": {},
   "source": [
    "## Work with models"
   ]
  },
  {
   "cell_type": "markdown",
   "metadata": {},
   "source": [
    "### Model 0 -Constant"
   ]
  },
  {
   "cell_type": "code",
   "execution_count": 23,
   "metadata": {},
   "outputs": [
    {
     "name": "stdout",
     "output_type": "stream",
     "text": [
      "F1-score of the constant model: 0.6510067114093959\n"
     ]
    }
   ],
   "source": [
    "# Create a dummy classifier that predicts the most frequent class\n",
    "model = DummyClassifier(strategy=\"most_frequent\")\n",
    "\n",
    "# Train the dummy classifier on the training data\n",
    "model.fit(train, train_target)\n",
    "\n",
    "# Make predictions on the test data using the dummy classifier\n",
    "dummy_predict = model.predict(test)\n",
    "\n",
    "# Calculate F1-score to evaluate the dummy classifier's performance\n",
    "f1 = f1_score(test_target, dummy_predict)\n",
    "\n",
    "# Print the F1-score of the dummy classifier\n",
    "print(\"F1-score of the constant model:\", f1)"
   ]
  },
  {
   "cell_type": "markdown",
   "metadata": {},
   "source": [
    "### Modelo 1 -NLTK, TF-IDF y LR"
   ]
  },
  {
   "cell_type": "markdown",
   "metadata": {},
   "source": [
    "TF-IDF"
   ]
  },
  {
   "cell_type": "code",
   "execution_count": 24,
   "metadata": {},
   "outputs": [],
   "source": [
    "#Creates an object called lemmatizer that will be used to find the base forms of words in the text data\n",
    "lemmatizer  = WordNetLemmatizer()"
   ]
  },
  {
   "cell_type": "code",
   "execution_count": 25,
   "metadata": {},
   "outputs": [],
   "source": [
    "# Select the first 201 rows from the 'review_norm' column in the training and testing DataFrames\n",
    "train1 = train.copy()\n",
    "test1 = test.copy()"
   ]
  },
  {
   "cell_type": "code",
   "execution_count": 26,
   "metadata": {},
   "outputs": [
    {
     "name": "stdout",
     "output_type": "stream",
     "text": [
      "(201,)\n",
      "(201,)\n"
     ]
    }
   ],
   "source": [
    "print(train1.shape)\n",
    "print(test1.shape)"
   ]
  },
  {
   "cell_type": "code",
   "execution_count": 27,
   "metadata": {},
   "outputs": [],
   "source": [
    "\n",
    "# Convert the training and test data to lowercase\n",
    "tokens_train1 = train1.str.lower() \n",
    "tokens_test1 = test1.str.lower() \n",
    "\n",
    "# Tokenize the training and test data into individual words\n",
    "tokens_train1 = tokens_train1.apply(word_tokenize) \n",
    "tokens_test1 = test1.str.lower().apply(word_tokenize)"
   ]
  },
  {
   "cell_type": "code",
   "execution_count": 28,
   "metadata": {},
   "outputs": [],
   "source": [
    "def lemmatize_tokens(token_list):\n",
    "    \"\"\"\n",
    "    Lemmatizes a list of tokens using a given lemmatizer.\n",
    "\n",
    "    Args:\n",
    "        token_list: A list of tokens (words) to be lemmatized.\n",
    "\n",
    "    Returns:\n",
    "        str: A string containing the lemmatized tokens joined by spaces.\n",
    "    \"\"\"\n",
    "    lemmas = []\n",
    "    for token in token_list:\n",
    "        lemma = lemmatizer.lemmatize(token)  # Lemmatize the current token\n",
    "        lemmas.append(lemma)                # Append the lemma to the list\n",
    "    return ' '.join(lemmas)                  # Join the list of lemmas into a single string\n",
    "\n",
    "# Apply the lemmatization function to the training data\n",
    "train1['lemmas1'] = tokens_train1.apply(lemmatize_tokens) \n",
    "\n",
    "# Apply the lemmatization function to the test data\n",
    "test1['lemmas1'] = tokens_test1.apply(lemmatize_tokens)"
   ]
  },
  {
   "cell_type": "code",
   "execution_count": 29,
   "metadata": {},
   "outputs": [
    {
     "name": "stdout",
     "output_type": "stream",
     "text": [
      "21110    xizao is a rare little movie it is simple and ...\n",
      "25408    i have always liked the carry on film with the...\n",
      "17224    and that 's why historic biographic movie are ...\n",
      "31121    a lack of character development prof fatal for...\n",
      "997      this is by far the worst horror thriller i 've...\n",
      "                               ...                        \n",
      "45606    morte a venezia is one of my favorite movie mo...\n",
      "8282     i waited for this movie to play in great antic...\n",
      "3444     apparently the people that wrote the back of t...\n",
      "16340    ooverall the movie wa fairly good a good actio...\n",
      "10634    i have never seen a comedy that wa this much o...\n",
      "Name: review_norm, Length: 201, dtype: object\n"
     ]
    }
   ],
   "source": [
    "print(train1['lemmas1'])"
   ]
  },
  {
   "cell_type": "code",
   "execution_count": 30,
   "metadata": {},
   "outputs": [
    {
     "name": "stdout",
     "output_type": "stream",
     "text": [
      "Train TF-IDF shape: (201, 6200)\n",
      "Test TF-IDF shape: (201, 6200)\n",
      "[0.12816845 0.23782693 0.10725357 0.10309197 0.10309197 0.11234695\n",
      " 0.2563369  0.09143208 0.04767718 0.07678138 0.14687014 0.06942522\n",
      " 0.11234695 0.10725357 0.12816845 0.10309197 0.11891347 0.12816845\n",
      " 0.53626785 0.19914678 0.19914678 0.0837519  0.12816845 0.11234695\n",
      " 0.11891347 0.06712942 0.14289797 0.10309197 0.12477612 0.09652546\n",
      " 0.07257483 0.0780155  0.12816845 0.08217709 0.08217709 0.22469391\n",
      " 0.09383699 0.09957339 0.0780155  0.10725357 0.12816845 0.05015681\n",
      " 0.11234695 0.07561058 0.08410589 0.12816845 0.15761231]\n"
     ]
    }
   ],
   "source": [
    "# Vectorization\n",
    "\n",
    "stop_words = list(nltk_stopwords.words('english'))\n",
    "count_tf_idf = TfidfVectorizer(stop_words=stop_words) #Calculates TF-IDF values ​​for a set of texts. The IDF measures the importance of a word in the set of documents.\n",
    "#The words that appear in many documents will have a low IDF, while the words that appear in a few documents will have a high IDF.\n",
    "train_tf_idf1 = count_tf_idf.fit_transform(train1['lemmas1'])\n",
    "test_tf_idf1 = count_tf_idf.transform(test1['lemmas1'])\n",
    "\n",
    "print('Train TF-IDF shape:', train_tf_idf1.shape)\n",
    "print('Test TF-IDF shape:', test_tf_idf1.shape)\n",
    "\n",
    "# Access the first element\n",
    "\n",
    "#Data: Contains non -null values.\n",
    "#indices: Contains the indices of the columns corresponding to the values ​​in data.\n",
    "#indpt: contains pointers at the beginning of each row in data and indices.\n",
    "\n",
    "data = test_tf_idf1.data\n",
    "indices = test_tf_idf1.indices\n",
    "indptr = test_tf_idf1.indptr\n",
    "\n",
    "first_element = data[indptr[0]:indptr[1]]\n",
    "print(first_element)"
   ]
  },
  {
   "cell_type": "code",
   "execution_count": 31,
   "metadata": {},
   "outputs": [
    {
     "name": "stdout",
     "output_type": "stream",
     "text": [
      "201\n"
     ]
    }
   ],
   "source": [
    "print(train_tf_idf1.shape[0])"
   ]
  },
  {
   "cell_type": "code",
   "execution_count": 32,
   "metadata": {},
   "outputs": [],
   "source": [
    "#Escalate the train data\n",
    "scaler = StandardScaler(with_mean=False)\n",
    "X_train_tfidf_scaled1 = scaler.fit_transform(train_tf_idf1)\n",
    "X_test_tfidf_scaled1 = scaler.transform(test_tf_idf1) "
   ]
  },
  {
   "cell_type": "code",
   "execution_count": 33,
   "metadata": {},
   "outputs": [],
   "source": [
    "skf = StratifiedKFold(n_splits=5, shuffle=True, random_state=42)"
   ]
  },
  {
   "cell_type": "code",
   "execution_count": 34,
   "metadata": {},
   "outputs": [],
   "source": [
    "# Define the parameter grid for Logistic Regression with L1 regularization.\n",
    "param_grid_lr1 = {\n",
    "    # 'C' parameter: Inverse of regularization strength. Smaller values specify stronger regularization.\n",
    "    'C': [0.00001, 0.0001, 0.001, 0.01, 0.1],\n",
    "    # 'solver' parameter: Algorithm to use in the optimization problem. 'liblinear' and 'saga' support L1 penalty.\n",
    "    'solver': ['liblinear', 'saga'],\n",
    "    # 'max_iter' parameter: Maximum number of iterations taken for the solvers to converge.\n",
    "    'max_iter': [100, 200],\n",
    "    # 'penalty' parameter: Specifies the norm used in the penalization. 'l1' for L1 regularization.\n",
    "    'penalty': ['l1'],\n",
    "    # 'multi_class' parameter: If the option chosen is 'ovr', then a binary problem is fit for each label.\n",
    "    'multi_class': ['ovr']\n",
    "}\n",
    "\n",
    "# Define the parameter grid for Logistic Regression with L2 regularization.\n",
    "param_grid_lr2 = {\n",
    "    # 'C' parameter: Inverse of regularization strength. Smaller values specify stronger regularization.\n",
    "    'C': [0.00001, 0.0001, 0.001, 0.01, 0.1],\n",
    "    # 'solver' parameter: Algorithm to use in the optimization problem. 'liblinear', 'lbfgs', and 'saga' support L2 penalty.\n",
    "    'solver': ['liblinear', 'lbfgs', 'saga'],\n",
    "    # 'max_iter' parameter: Maximum number of iterations taken for the solvers to converge.\n",
    "    'max_iter': [100, 200],\n",
    "    # 'penalty' parameter: Specifies the norm used in the penalization. 'l2' for L2 regularization.\n",
    "    'penalty': ['l2'],\n",
    "    # 'multi_class' parameter: If the option chosen is 'ovr', then a binary problem is fit for each label.\n",
    "    'multi_class': ['ovr']\n",
    "}\n",
    "\n",
    "# Create a GridSearchCV object for Logistic Regression with L1 regularization.\n",
    "# 'estimator': The LogisticRegression model.\n",
    "# 'param_grid': The parameter grid defined above.\n",
    "# 'cv': Cross-validation splitting strategy (using StratifiedKFold 'skf' defined elsewhere).\n",
    "# 'scoring': The metric to evaluate the predictions on the test set. 'f1' for F1-score.\n",
    "grid1 = GridSearchCV(estimator=LogisticRegression(), param_grid=param_grid_lr1, cv=skf, scoring='f1')\n",
    "\n",
    "# Create a GridSearchCV object for Logistic Regression with L2 regularization.\n",
    "# 'estimator': The LogisticRegression model.\n",
    "# 'param_grid': The parameter grid defined above.\n",
    "# 'cv': Cross-validation splitting strategy (using StratifiedKFold 'skf' defined elsewhere).\n",
    "# 'scoring': The metric to evaluate the predictions on the test set. 'f1' for F1-score.\n",
    "grid2 = GridSearchCV(estimator=LogisticRegression(), param_grid=param_grid_lr2, cv=skf, scoring='f1')"
   ]
  },
  {
   "cell_type": "code",
   "execution_count": 35,
   "metadata": {},
   "outputs": [
    {
     "name": "stdout",
     "output_type": "stream",
     "text": [
      "Best model LogisticRegression(C=0.001, multi_class='ovr')\n"
     ]
    }
   ],
   "source": [
    "warnings.filterwarnings('ignore')  # Suppresses warning messages during execution. This is generally not recommended for production code, as warnings can provide valuable information about potential issues.\n",
    "\n",
    "# Create a Logistic Regression model with specified parameters.\n",
    "# In this case, grid1 and grid2 are GridSearchCV objects, which perform hyperparameter tuning using cross-validation.\n",
    "\n",
    "# Train the model on the training TF-IDF features and target labels.\n",
    "# The 'fit' method trains the GridSearchCV models using the provided training data.\n",
    "grid1.fit(X_train_tfidf_scaled1, train_target) # Trains the first GridSearchCV model (grid1) with the training data.\n",
    "grid2.fit(X_train_tfidf_scaled1, train_target) # Trains the second GridSearchCV model (grid2) with the same training data.\n",
    "\n",
    "# Obtain the best parameters and the best model from grid1.\n",
    "best_params1 = grid1.best_params_     # Retrieves the best hyperparameters found by grid1.\n",
    "best_model1 = grid1.best_estimator_  # Retrieves the best Logistic Regression model found by grid1.\n",
    "best_score1 = grid1.best_score_      # Retrieves the best cross-validation score achieved by grid1.\n",
    "\n",
    "# Obtain the best parameters and the best model from grid2.\n",
    "best_params2 = grid2.best_params_     # Retrieves the best hyperparameters found by grid2.\n",
    "best_model2 = grid2.best_estimator_  # Retrieves the best Logistic Regression model found by grid2.\n",
    "best_score2 = grid2.best_score_      # Retrieves the best cross-validation score achieved by grid2.\n",
    "\n",
    "# Determine which model (grid1 or grid2) performed better based on their best scores.\n",
    "if best_score1 > best_score2:\n",
    "    best_model = best_model1  # Assigns the best model from grid1 to 'best_model' if its score is higher.\n",
    "else:\n",
    "    best_model = best_model2  # Assigns the best model from grid2 to 'best_model' if its score is higher or equal.\n",
    "\n",
    "# Use the trained 'best_model' to make predictions on the test TF-IDF features.\n",
    "# The 'predict' method generates predictions for the test data using the selected best model.\n",
    "pred_test = best_model.predict(X_test_tfidf_scaled1)\n",
    "\n",
    "print('Best model', best_model) # Prints the selected best Logistic Regression model object.\n"
   ]
  },
  {
   "cell_type": "code",
   "execution_count": 36,
   "metadata": {},
   "outputs": [
    {
     "name": "stdout",
     "output_type": "stream",
     "text": [
      "          train  test\n",
      "Accuracy    1.0  0.70\n",
      "F1          1.0  0.72\n",
      "APS         1.0  0.76\n",
      "ROC AUC     1.0  0.79\n"
     ]
    },
    {
     "data": {
      "text/html": [
       "<div>\n",
       "<style scoped>\n",
       "    .dataframe tbody tr th:only-of-type {\n",
       "        vertical-align: middle;\n",
       "    }\n",
       "\n",
       "    .dataframe tbody tr th {\n",
       "        vertical-align: top;\n",
       "    }\n",
       "\n",
       "    .dataframe thead th {\n",
       "        text-align: right;\n",
       "    }\n",
       "</style>\n",
       "<table border=\"1\" class=\"dataframe\">\n",
       "  <thead>\n",
       "    <tr style=\"text-align: right;\">\n",
       "      <th></th>\n",
       "      <th>train</th>\n",
       "      <th>test</th>\n",
       "    </tr>\n",
       "  </thead>\n",
       "  <tbody>\n",
       "    <tr>\n",
       "      <th>Accuracy</th>\n",
       "      <td>1.0</td>\n",
       "      <td>0.70</td>\n",
       "    </tr>\n",
       "    <tr>\n",
       "      <th>F1</th>\n",
       "      <td>1.0</td>\n",
       "      <td>0.72</td>\n",
       "    </tr>\n",
       "    <tr>\n",
       "      <th>APS</th>\n",
       "      <td>1.0</td>\n",
       "      <td>0.76</td>\n",
       "    </tr>\n",
       "    <tr>\n",
       "      <th>ROC AUC</th>\n",
       "      <td>1.0</td>\n",
       "      <td>0.79</td>\n",
       "    </tr>\n",
       "  </tbody>\n",
       "</table>\n",
       "</div>"
      ],
      "text/plain": [
       "          train  test\n",
       "Accuracy    1.0  0.70\n",
       "F1          1.0  0.72\n",
       "APS         1.0  0.76\n",
       "ROC AUC     1.0  0.79"
      ]
     },
     "execution_count": 36,
     "metadata": {},
     "output_type": "execute_result"
    }
   ],
   "source": [
    "# Call the 'evaluate_model' function to assess the performance of the given model \n",
    "evaluate_model(best_model, X_train_tfidf_scaled1, train_target, X_test_tfidf_scaled1, test_target)"
   ]
  },
  {
   "cell_type": "markdown",
   "metadata": {},
   "source": [
    "### Modelo 3 -spaCy, TF-IDF y LR"
   ]
  },
  {
   "cell_type": "code",
   "execution_count": 37,
   "metadata": {},
   "outputs": [
    {
     "name": "stdout",
     "output_type": "stream",
     "text": [
      "(201,)\n",
      "(201,)\n"
     ]
    }
   ],
   "source": [
    "print(test.shape)\n",
    "print(train.shape)"
   ]
  },
  {
   "cell_type": "code",
   "execution_count": 38,
   "metadata": {},
   "outputs": [],
   "source": [
    "# Create a copy of the Dataframes\n",
    "train3 = train.to_frame()\n",
    "test3 = test.to_frame()"
   ]
  },
  {
   "cell_type": "code",
   "execution_count": 39,
   "metadata": {},
   "outputs": [
    {
     "name": "stdout",
     "output_type": "stream",
     "text": [
      "Texto original: Xizao is a rare little movie It is simple and undemanding and at the same time so rewarding in emotion and joy The story is simple and the theme of old and new clashing is wonderfully introduced in the first scenes This theme is the essence of the movie but it would have fallen flat if it wasn't for the magnificent characters and the actors portraying them The aging patriarch Master Liu is a relic of China's pre expansion days He runs a bath house in an old neighbourhood Every single scene set in the bath house is a source of jelaousy for us stressed out unhappy people Not even hardened cynics can find any flaws in this wonderful setting Master Liu's mentally handicapped son Er Ming is the second truly powerful character in the movie coupled with his modern life brother The interactions between these three people and the various visitors to the bath house are amazingly detailed and heart felt with some scenes packing so much emotion it's beyond almost everything seen in movies With its regime critical message this movie was not only censored but also given unreasonably small coverage It could be a coincidence but when a movie of this caliber is virtually impossible to find even on the internet you can't help getting suspicious So help free speech and the movie world buy rent copy this wonderful movie and if you happen to own the DVD if there even is one then share share share\n",
      "Texto lematizado: xizao be a rare little movie it be simple and undemanding and at the same time so rewarding in emotion and joy the story be simple and the theme of old and new clashing be wonderfully introduce in the first scene this theme be the essence of the movie but it would have fall flat if it be not for the magnificent character and the actor portray they the age patriarch master liu be a relic of china 's pre expansion day he run a bath house in an old neighbourhood every single scene set in the bath house be a source of jelaousy for we stress out unhappy people not even harden cynic can find any flaw in this wonderful set master liu 's mentally handicapped son er ming be the second truly powerful character in the movie couple with his modern life brother the interaction between these three people and the various visitor to the bath house be amazingly detailed and heart feel with some scene pack so much emotion it be beyond almost everything see in movie with its regime critical message this movie be not only censor but also give unreasonably small coverage it could be a coincidence but when a movie of this caliber be virtually impossible to find even on the internet you can not help get suspicious so help free speech and the movie world buy rent copy this wonderful movie and if you happen to own the dvd if there even be one then share share share\n"
     ]
    }
   ],
   "source": [
    "# Load the spaCy language model, disabling parser and NER for faster processing\n",
    "nlp = spacy.load('en_core_web_sm', disable=['parser', 'ner']) \n",
    "\n",
    "# Define a function to lemmatize a list of tokens\n",
    "def lemmatize_tokens(tokens):\n",
    "    \"\"\"\n",
    "    Lemmatizes a list of tokens using the spaCy model.\n",
    "\n",
    "    Args:\n",
    "        tokens (str): A string containing the tokens.\n",
    "\n",
    "    Returns:\n",
    "        str: A string containing the lemmatized tokens.\n",
    "    \"\"\"\n",
    "    doc = nlp(tokens.lower())  # Process the tokens with the spaCy model, converting to lowercase\n",
    "    lemmas = [token.lemma_ for token in doc]  # Extract the lemma (base form) of each token\n",
    "    return ' '.join(lemmas)  # Join the lemmatized tokens back into a single string\n",
    "\n",
    "# Apply the lemmatization function to the 'review_norm' column in the training and test sets\n",
    "train3['lemmas'] = train3['review_norm'].astype(str).apply(lemmatize_tokens)\n",
    "test3['lemmas'] = test3['review_norm'].astype(str).apply(lemmatize_tokens)\n",
    "\n",
    "# Print an example of the original and leatized text\n",
    "print(\"Texto original:\", train3['review_norm'].iloc[0])\n",
    "print(\"Texto lematizado:\", train3['lemmas'].iloc[0])"
   ]
  },
  {
   "cell_type": "code",
   "execution_count": 40,
   "metadata": {},
   "outputs": [
    {
     "name": "stdout",
     "output_type": "stream",
     "text": [
      "(201, 2)\n",
      "(201, 2)\n"
     ]
    }
   ],
   "source": [
    "print(train3.shape)\n",
    "print(test3.shape)"
   ]
  },
  {
   "cell_type": "code",
   "execution_count": 41,
   "metadata": {},
   "outputs": [
    {
     "name": "stdout",
     "output_type": "stream",
     "text": [
      "Train TF-IDF shape: (201, 5593)\n",
      "Test TF-IDF shape: (201, 5593)\n",
      "[0.10580688 0.19633323 0.08854102 0.05298258 0.0851055  0.09274576\n",
      " 0.16440161 0.0754799  0.03935894 0.06338532 0.11957045 0.10580688\n",
      " 0.05699984 0.09274576 0.07368396 0.10580688 0.03653358 0.19633323\n",
      " 0.10580688 0.16440161 0.51578769 0.06913969 0.10580688 0.06783964\n",
      " 0.09274576 0.08854102 0.09816661 0.05477853 0.11796653 0.0851055\n",
      " 0.10300641 0.07968464 0.05991268 0.06440412 0.10580688 0.06783964\n",
      " 0.06662353 0.31742063 0.4232275  0.17708204 0.07746523 0.0822008\n",
      " 0.06338532 0.04672411 0.10580688 0.04140595 0.09274576 0.06241879\n",
      " 0.06943192 0.10580688]\n"
     ]
    }
   ],
   "source": [
    "# Vectorization\n",
    "stop_words = list(nltk_stopwords.words('english'))\n",
    "count_tf_idf = TfidfVectorizer(stop_words=stop_words)\n",
    "train_tf_idf3 = count_tf_idf.fit_transform(train3['lemmas'])\n",
    "test_tf_idf3 = count_tf_idf.transform(test3['lemmas'])\n",
    "\n",
    "print('Train TF-IDF shape:', train_tf_idf3.shape)\n",
    "print('Test TF-IDF shape:', test_tf_idf3.shape)\n",
    "\n",
    "# Access the first element\n",
    "data = test_tf_idf3.data\n",
    "indices = test_tf_idf3.indices\n",
    "indptr = test_tf_idf3.indptr\n",
    "\n",
    "first_element = data[indptr[0]:indptr[1]]\n",
    "print(first_element)"
   ]
  },
  {
   "cell_type": "code",
   "execution_count": 42,
   "metadata": {},
   "outputs": [],
   "source": [
    "# Climb the data\n",
    "scaler = StandardScaler(with_mean=False)\n",
    "train_scaled_spacy = scaler.fit_transform(train_tf_idf3)\n",
    "test_scaled_spacy = scaler.transform(test_tf_idf3)"
   ]
  },
  {
   "cell_type": "code",
   "execution_count": 43,
   "metadata": {},
   "outputs": [
    {
     "name": "stdout",
     "output_type": "stream",
     "text": [
      "Best model LogisticRegression(C=0.01, multi_class='ovr')\n"
     ]
    }
   ],
   "source": [
    "\n",
    "# Train the model on the training TF-IDF features and target labels\n",
    "grid1.fit(train_scaled_spacy, train_target)\n",
    "grid2.fit(train_scaled_spacy, train_target)\n",
    "\n",
    "# Obtener los mejores parámetros y el mejor modelo\n",
    "best_params13 = grid1.best_params_\n",
    "best_model13 = grid1.best_estimator_\n",
    "best_score13 = grid1.best_score_\n",
    "\n",
    "best_params23 = grid2.best_params_ \n",
    "best_model23 = grid2.best_estimator_\n",
    "best_score23 = grid2.best_score_\n",
    "\n",
    "if best_score13> best_score23:\n",
    "    best_model3 = best_model13\n",
    "else: best_model3 = best_model23\n",
    "\n",
    "# Use the trained model to make predictions on the test TF-IDF features\n",
    "pred_test = best_model3.predict(test_scaled_spacy)\n",
    "\n",
    "print('Best model',best_model3)\n"
   ]
  },
  {
   "cell_type": "code",
   "execution_count": 44,
   "metadata": {},
   "outputs": [
    {
     "name": "stdout",
     "output_type": "stream",
     "text": [
      "          train  test\n",
      "Accuracy    1.0  0.71\n",
      "F1          1.0  0.72\n",
      "APS         1.0  0.79\n",
      "ROC AUC     1.0  0.80\n"
     ]
    },
    {
     "data": {
      "text/html": [
       "<div>\n",
       "<style scoped>\n",
       "    .dataframe tbody tr th:only-of-type {\n",
       "        vertical-align: middle;\n",
       "    }\n",
       "\n",
       "    .dataframe tbody tr th {\n",
       "        vertical-align: top;\n",
       "    }\n",
       "\n",
       "    .dataframe thead th {\n",
       "        text-align: right;\n",
       "    }\n",
       "</style>\n",
       "<table border=\"1\" class=\"dataframe\">\n",
       "  <thead>\n",
       "    <tr style=\"text-align: right;\">\n",
       "      <th></th>\n",
       "      <th>train</th>\n",
       "      <th>test</th>\n",
       "    </tr>\n",
       "  </thead>\n",
       "  <tbody>\n",
       "    <tr>\n",
       "      <th>Accuracy</th>\n",
       "      <td>1.0</td>\n",
       "      <td>0.71</td>\n",
       "    </tr>\n",
       "    <tr>\n",
       "      <th>F1</th>\n",
       "      <td>1.0</td>\n",
       "      <td>0.72</td>\n",
       "    </tr>\n",
       "    <tr>\n",
       "      <th>APS</th>\n",
       "      <td>1.0</td>\n",
       "      <td>0.79</td>\n",
       "    </tr>\n",
       "    <tr>\n",
       "      <th>ROC AUC</th>\n",
       "      <td>1.0</td>\n",
       "      <td>0.80</td>\n",
       "    </tr>\n",
       "  </tbody>\n",
       "</table>\n",
       "</div>"
      ],
      "text/plain": [
       "          train  test\n",
       "Accuracy    1.0  0.71\n",
       "F1          1.0  0.72\n",
       "APS         1.0  0.79\n",
       "ROC AUC     1.0  0.80"
      ]
     },
     "execution_count": 44,
     "metadata": {},
     "output_type": "execute_result"
    }
   ],
   "source": [
    "# Evaluate the performance of the given model\n",
    "evaluate_model(best_model3, train_scaled_spacy, train_target, test_scaled_spacy, test_target)"
   ]
  },
  {
   "cell_type": "code",
   "execution_count": 45,
   "metadata": {},
   "outputs": [
    {
     "name": "stdout",
     "output_type": "stream",
     "text": [
      "[0.6510067114093959, 0.6510067114093959, 0.6597938144329897, 0.7011070110701108, 0.7346938775510204, 0.7211538461538461, 0.6627218934911243, 0.4307692307692308, 0.11650485436893204, 0.0, 0.0]\n"
     ]
    }
   ],
   "source": [
    "probas = best_model3.predict_proba(test_scaled_spacy)[:,1]\n",
    "# This line calculates the predicted probabilities for the positive class (class 1) using the trained model 'best_model3' on the scaled test features 'test_scaled_spacy'.\n",
    "\n",
    "thresholds = np.arange(0.0, 1.1, 0.1)\n",
    "# This line creates an array of thresholds ranging from 0.0 to 1.0 with a step of 0.1.\n",
    "\n",
    "f1_scores = [f1_score(test_target, probas >= t) for t in thresholds]\n",
    "# This line calculates the F1-score for each threshold.\n",
    "\n",
    "print(f1_scores)"
   ]
  },
  {
   "cell_type": "markdown",
   "metadata": {},
   "source": [
    "### Model 9 -BERT"
   ]
  },
  {
   "cell_type": "code",
   "execution_count": 46,
   "metadata": {},
   "outputs": [],
   "source": [
    "import torch\n",
    "import transformers\n",
    "from transformers import BertConfig, BertModel"
   ]
  },
  {
   "cell_type": "code",
   "execution_count": 47,
   "metadata": {},
   "outputs": [],
   "source": [
    "# Create a copy of the Dataframes\n",
    "train9 = train.copy()\n",
    "\n",
    "test9 = test.copy()"
   ]
  },
  {
   "cell_type": "code",
   "execution_count": 48,
   "metadata": {},
   "outputs": [],
   "source": [
    "#Convert train9 to a chain list\n",
    "train9_list = train9.tolist()\n",
    "test9_list = test9.tolist()"
   ]
  },
  {
   "cell_type": "code",
   "execution_count": 49,
   "metadata": {},
   "outputs": [],
   "source": [
    "# Load the pre-trained BERT tokenizer and model (only once)\n",
    "tokenizer = transformers.BertTokenizer.from_pretrained('bert-base-uncased')\n",
    "model_bert = transformers.BertModel.from_pretrained('bert-base-uncased')"
   ]
  },
  {
   "cell_type": "code",
   "execution_count": 50,
   "metadata": {},
   "outputs": [
    {
     "name": "stdout",
     "output_type": "stream",
     "text": [
      "Tokenizer: <class 'transformers.models.bert.tokenization_bert.BertTokenizer'>\n",
      "Model: <class 'transformers.models.bert.modeling_bert.BertModel'>\n"
     ]
    }
   ],
   "source": [
    "print(f\"Tokenizer: {type(tokenizer)}\")\n",
    "print(f\"Model: {type(model_bert)}\")"
   ]
  },
  {
   "cell_type": "code",
   "execution_count": 51,
   "metadata": {},
   "outputs": [],
   "source": [
    "def BERT_text_to_embeddings(texts, max_length=512, batch_size=8, force_device=None, disable_progress_bar=False):\n",
    "    \"\"\"\n",
    "    Esta función convierte una lista de cadenas de texto en embeddings de BERT.\n",
    "    \"\"\"\n",
    "    # 1. Filtrar los valores NaN\n",
    "    texts = [item for item in texts if not isinstance(item, float) or not np.isnan(item)]\n",
    "    # Tokenization using the transformers function\n",
    "    tokens = tokenizer(\n",
    "        texts,\n",
    "        max_length=max_length,\n",
    "        padding='max_length',\n",
    "        truncation=True,\n",
    "        return_tensors='pt'\n",
    "    )\n",
    "\n",
    "    # Determine the device to use (MPS or CPU)\n",
    "    if force_device is not None:\n",
    "        device = torch.device(force_device)\n",
    "    else:\n",
    "        device = torch.device('mps' if torch.backends.mps.is_available() else 'cpu')\n",
    "        print(f'Using device: {device}')\n",
    "\n",
    "    # Move the model to the chosen device\n",
    "    model_bert.to(device)  # Use model_bert\n",
    "    model_bert.eval()  # Evaluation mode\n",
    "\n",
    "    # Create an empty list to store embeddings\n",
    "    embeddings = []\n",
    "\n",
    "    # Process the text in batches\n",
    "    with torch.no_grad():\n",
    "        for i in tqdm(range(math.ceil(len(tokens['input_ids']) / batch_size)), disable=disable_progress_bar):\n",
    "            start_idx = batch_size * i\n",
    "            end_idx = min(batch_size * (i + 1), len(tokens['input_ids']))\n",
    "\n",
    "            input_ids_batch = tokens['input_ids'][start_idx:end_idx].to(device)\n",
    "            attention_mask_batch = tokens['attention_mask'][start_idx:end_idx].to(device)\n",
    "\n",
    "            batch_embeddings = model_bert(input_ids=input_ids_batch, attention_mask=attention_mask_batch)  \n",
    "            embeddings.append(batch_embeddings.last_hidden_state[:, 0, :].detach().cpu())\n",
    "\n",
    "    return torch.cat(embeddings)"
   ]
  },
  {
   "cell_type": "code",
   "execution_count": 52,
   "metadata": {},
   "outputs": [
    {
     "data": {
      "application/vnd.jupyter.widget-view+json": {
       "model_id": "20434c40411644f39a224a829395c63c",
       "version_major": 2,
       "version_minor": 0
      },
      "text/plain": [
       "  0%|          | 0/26 [00:00<?, ?it/s]"
      ]
     },
     "metadata": {},
     "output_type": "display_data"
    }
   ],
   "source": [
    "#Apply Bert text to embeddings to train features\n",
    "train_features_9 = BERT_text_to_embeddings(train9_list, force_device='mps', max_length=512)"
   ]
  },
  {
   "cell_type": "code",
   "execution_count": 53,
   "metadata": {},
   "outputs": [
    {
     "data": {
      "application/vnd.jupyter.widget-view+json": {
       "model_id": "62ff5594b572439281be58be7a782ffd",
       "version_major": 2,
       "version_minor": 0
      },
      "text/plain": [
       "  0%|          | 0/26 [00:00<?, ?it/s]"
      ]
     },
     "metadata": {},
     "output_type": "display_data"
    }
   ],
   "source": [
    "#Apply Bert text to embeddings to test features\n",
    "test_features_9 = BERT_text_to_embeddings(test9_list,force_device='mps', max_length=512)"
   ]
  },
  {
   "cell_type": "code",
   "execution_count": 54,
   "metadata": {},
   "outputs": [
    {
     "name": "stdout",
     "output_type": "stream",
     "text": [
      "(23796,)\n",
      "torch.Size([201, 768])\n",
      "(201,)\n",
      "torch.Size([201, 768])\n",
      "(201,)\n"
     ]
    }
   ],
   "source": [
    "print(df_reviews_train['review_norm'].shape)\n",
    "print(train_features_9.shape)\n",
    "print(train_target.shape)\n",
    "print(test_features_9.shape)\n",
    "print(test_target.shape)"
   ]
  },
  {
   "cell_type": "code",
   "execution_count": 55,
   "metadata": {},
   "outputs": [
    {
     "name": "stdout",
     "output_type": "stream",
     "text": [
      "train_target_tensor: tensor([1., 0., 1., 0., 0., 0., 1., 1., 1., 1., 0., 0., 1., 0., 0., 1., 1., 1.,\n",
      "        1., 1., 1., 1., 0., 0., 0., 1., 1., 1., 1., 1., 0., 0., 1., 0., 1., 0.,\n",
      "        0., 0., 0., 1., 0., 0., 1., 1., 0., 1., 0., 0., 0., 1., 0., 1., 0., 1.,\n",
      "        0., 0., 0., 1., 0., 0., 0., 1., 1., 1., 0., 1., 0., 0., 1., 1., 1., 1.,\n",
      "        0., 0., 1., 0., 0., 0., 0., 1., 1., 1., 0., 1., 0., 1., 1., 1., 1., 1.,\n",
      "        1., 0., 0., 1., 0., 1., 0., 0., 1., 0., 1., 0., 0., 1., 1., 1., 0., 1.,\n",
      "        0., 0., 0., 1., 0., 0., 0., 1., 1., 1., 0., 0., 0., 1., 0., 1., 0., 1.,\n",
      "        1., 0., 1., 0., 0., 1., 0., 0., 0., 1., 1., 0., 0., 1., 1., 0., 0., 1.,\n",
      "        0., 0., 0., 1., 0., 1., 0., 0., 1., 1., 0., 1., 1., 1., 1., 1., 0., 1.,\n",
      "        0., 1., 0., 0., 1., 0., 0., 1., 1., 1., 1., 0., 0., 1., 0., 1., 0., 1.,\n",
      "        1., 1., 1., 1., 1., 1., 1., 1., 1., 0., 1., 0., 1., 0., 1., 1., 1., 0.,\n",
      "        0., 1., 0.])\n",
      "test_target_tensor: tensor([1., 0., 0., 1., 0., 0., 0., 1., 0., 0., 0., 1., 0., 1., 0., 0., 1., 1.,\n",
      "        0., 1., 1., 0., 0., 1., 0., 1., 1., 0., 1., 1., 0., 0., 0., 1., 0., 1.,\n",
      "        1., 0., 1., 1., 0., 0., 1., 1., 0., 0., 0., 1., 1., 0., 0., 1., 1., 0.,\n",
      "        1., 1., 1., 1., 0., 0., 1., 0., 1., 1., 1., 0., 0., 1., 1., 0., 1., 0.,\n",
      "        1., 1., 1., 0., 1., 1., 0., 1., 0., 0., 0., 0., 1., 0., 0., 0., 1., 1.,\n",
      "        0., 0., 0., 1., 1., 0., 0., 1., 0., 1., 0., 0., 1., 1., 0., 1., 1., 1.,\n",
      "        1., 0., 0., 0., 0., 0., 1., 0., 0., 0., 0., 0., 1., 1., 1., 1., 1., 0.,\n",
      "        1., 0., 0., 0., 1., 0., 0., 0., 1., 1., 1., 1., 1., 1., 1., 0., 0., 0.,\n",
      "        0., 0., 1., 0., 1., 0., 0., 1., 1., 1., 0., 0., 0., 1., 0., 1., 0., 1.,\n",
      "        0., 0., 0., 0., 0., 1., 1., 0., 1., 0., 1., 0., 1., 0., 1., 0., 0., 0.,\n",
      "        1., 0., 0., 1., 0., 1., 0., 0., 1., 1., 1., 1., 1., 0., 1., 1., 0., 1.,\n",
      "        1., 1., 0.])\n"
     ]
    }
   ],
   "source": [
    "# Extract values ​​as arrays numpy\n",
    "train_target_numpy = train_target.values\n",
    "test_target_numpy = test_target.values\n",
    "\n",
    "# Convert the arrays numpy to Pytorch tensioners\n",
    "train_target_tensor = torch.tensor(train_target_numpy).float()\n",
    "test_target_tensor = torch.tensor(test_target_numpy).float()\n",
    "\n",
    "# Verify the tensioners\n",
    "print(\"train_target_tensor:\", train_target_tensor)\n",
    "print(\"test_target_tensor:\", test_target_tensor)"
   ]
  },
  {
   "cell_type": "code",
   "execution_count": 56,
   "metadata": {},
   "outputs": [],
   "source": [
    "#Reset index\n",
    "train_target = train_target.reset_index(drop=True)\n",
    "# Turn TRAIN to a pytorch tensor\n",
    "train_target_tensor = torch.tensor(train_target.values).float() \n",
    "test_target_tensor = torch.tensor(test_target.values).float()\n"
   ]
  },
  {
   "cell_type": "code",
   "execution_count": 57,
   "metadata": {},
   "outputs": [
    {
     "name": "stdout",
     "output_type": "stream",
     "text": [
      "<class 'torch.Tensor'>\n",
      "torch.Size([201, 1])\n"
     ]
    }
   ],
   "source": [
    "#  Use view () in the tensioner\n",
    "train_target_BERT = train_target_tensor.view(-1, 1)\n",
    "test_target_BERT = test_target_tensor.view(-1, 1)\n",
    "\n",
    "# Verify the type and shape\n",
    "print(type(train_target_BERT))\n",
    "print(train_target_BERT.shape)"
   ]
  },
  {
   "cell_type": "code",
   "execution_count": 58,
   "metadata": {},
   "outputs": [],
   "source": [
    "#Create a classification model with nn.sential\n",
    "def create_classifier(input_size, num_classes, hidden_size=256):\n",
    "    model = nn.Sequential(\n",
    "    nn.Linear(input_size, hidden_size),\n",
    "    nn.ReLU(),\n",
    "    nn.Dropout(0.3), \n",
    "    nn.Linear(hidden_size, hidden_size // 2),\n",
    "    nn.ReLU(),\n",
    "    nn.Dropout(0.3), \n",
    "    nn.Linear(hidden_size // 2, num_classes)\n",
    ")\n",
    "    return model\n",
    "\n",
    "model_BERT = create_classifier(input_size=768, num_classes=1,hidden_size = 256)"
   ]
  },
  {
   "cell_type": "code",
   "execution_count": 59,
   "metadata": {},
   "outputs": [
    {
     "name": "stdout",
     "output_type": "stream",
     "text": [
      "Forma de train_features_9: torch.Size([201, 768])\n",
      "Forma de train_target_BERT: torch.Size([201, 1])\n"
     ]
    }
   ],
   "source": [
    "print(\"Forma de train_features_9:\", train_features_9.shape)\n",
    "print(\"Forma de train_target_BERT:\", train_target_BERT.shape)"
   ]
  },
  {
   "cell_type": "code",
   "execution_count": 60,
   "metadata": {},
   "outputs": [
    {
     "data": {
      "text/plain": [
       "Sequential(\n",
       "  (0): Linear(in_features=768, out_features=256, bias=True)\n",
       "  (1): ReLU()\n",
       "  (2): Dropout(p=0.3, inplace=False)\n",
       "  (3): Linear(in_features=256, out_features=128, bias=True)\n",
       "  (4): ReLU()\n",
       "  (5): Dropout(p=0.3, inplace=False)\n",
       "  (6): Linear(in_features=128, out_features=1, bias=True)\n",
       ")"
      ]
     },
     "execution_count": 60,
     "metadata": {},
     "output_type": "execute_result"
    }
   ],
   "source": [
    "#We create a dataer with the features and target\n",
    "train_dataset_bert = TensorDataset(train_features_9, train_target_BERT)\n",
    "test_dataset_bert = TensorDataset(test_features_9, test_target_BERT)\n",
    "#Convert in Batchs dates to be able to load it to the model \n",
    "train_dataloader = DataLoader(train_dataset_bert, batch_size=8, shuffle = True)\n",
    "test_dataloader = DataLoader(test_dataset_bert, batch_size=8, shuffle = True)\n",
    "\n",
    "#We define the loss function and optimizer\n",
    "Criterion = nn.BCEWithLogitsLoss() #combine sigmoid and loss in a single operation, which improves numerical stability.\n",
    "optimizer = optim.Adam(model_bert.parameters (), lr = 1e-3, weight_decay = 1e-5) # add weight_decay # model.parameters () tells the optimizer what parameters of the model you should adjust.\n",
    "                                                            #LR (Learning Rate): Control the speed at which the optimizer adjusts the weights.\n",
    "device = torch.device('mps' if torch.cuda.is_available() else \"cpu\")\n",
    "model_BERT.to(device)"
   ]
  },
  {
   "cell_type": "code",
   "execution_count": 61,
   "metadata": {},
   "outputs": [],
   "source": [
    "device1 = torch.device(\"cpu\")\n",
    "device = torch.device('mps' if torch.backends.mps.is_available() else \"cpu\")"
   ]
  },
  {
   "cell_type": "code",
   "execution_count": 62,
   "metadata": {},
   "outputs": [
    {
     "name": "stdout",
     "output_type": "stream",
     "text": [
      "Parameter: 0.weight, Device: mps:0\n",
      "Parameter: 0.bias, Device: mps:0\n",
      "Parameter: 3.weight, Device: mps:0\n",
      "Parameter: 3.bias, Device: mps:0\n",
      "Parameter: 6.weight, Device: mps:0\n",
      "Parameter: 6.bias, Device: mps:0\n"
     ]
    }
   ],
   "source": [
    "device = torch.device('mps' if torch.backends.mps.is_available() else \"cpu\")\n",
    "\n",
    "# Move the MPS device model\n",
    "model_BERT.to(device) # <----This is the line that was missing\n",
    "\n",
    "# Verify that model parameters are in MPS\n",
    "for name, param in model_BERT.named_parameters():\n",
    "    print(f\"Parameter: {name}, Device: {param.device}\")"
   ]
  },
  {
   "cell_type": "code",
   "execution_count": 63,
   "metadata": {},
   "outputs": [
    {
     "name": "stdout",
     "output_type": "stream",
     "text": [
      "Features shape: torch.Size([8, 768])\n",
      "Labels shape: torch.Size([8, 1])\n",
      "Features shape: torch.Size([8, 768])\n",
      "Labels shape: torch.Size([8, 1])\n",
      "Features shape: torch.Size([8, 768])\n",
      "Labels shape: torch.Size([8, 1])\n",
      "Features shape: torch.Size([8, 768])\n",
      "Labels shape: torch.Size([8, 1])\n",
      "Features shape: torch.Size([8, 768])\n",
      "Labels shape: torch.Size([8, 1])\n",
      "Features shape: torch.Size([8, 768])\n",
      "Labels shape: torch.Size([8, 1])\n",
      "Features shape: torch.Size([8, 768])\n",
      "Labels shape: torch.Size([8, 1])\n",
      "Features shape: torch.Size([8, 768])\n",
      "Labels shape: torch.Size([8, 1])\n",
      "Features shape: torch.Size([8, 768])\n",
      "Labels shape: torch.Size([8, 1])\n",
      "Features shape: torch.Size([8, 768])\n",
      "Labels shape: torch.Size([8, 1])\n",
      "Features shape: torch.Size([8, 768])\n",
      "Labels shape: torch.Size([8, 1])\n",
      "Features shape: torch.Size([8, 768])\n",
      "Labels shape: torch.Size([8, 1])\n",
      "Features shape: torch.Size([8, 768])\n",
      "Labels shape: torch.Size([8, 1])\n",
      "Features shape: torch.Size([8, 768])\n",
      "Labels shape: torch.Size([8, 1])\n",
      "Features shape: torch.Size([8, 768])\n",
      "Labels shape: torch.Size([8, 1])\n",
      "Features shape: torch.Size([8, 768])\n",
      "Labels shape: torch.Size([8, 1])\n",
      "Features shape: torch.Size([8, 768])\n",
      "Labels shape: torch.Size([8, 1])\n",
      "Features shape: torch.Size([8, 768])\n",
      "Labels shape: torch.Size([8, 1])\n",
      "Features shape: torch.Size([8, 768])\n",
      "Labels shape: torch.Size([8, 1])\n",
      "Features shape: torch.Size([8, 768])\n",
      "Labels shape: torch.Size([8, 1])\n",
      "Features shape: torch.Size([8, 768])\n",
      "Labels shape: torch.Size([8, 1])\n",
      "Features shape: torch.Size([8, 768])\n",
      "Labels shape: torch.Size([8, 1])\n",
      "Features shape: torch.Size([8, 768])\n",
      "Labels shape: torch.Size([8, 1])\n",
      "Features shape: torch.Size([8, 768])\n",
      "Labels shape: torch.Size([8, 1])\n",
      "Features shape: torch.Size([8, 768])\n",
      "Labels shape: torch.Size([8, 1])\n",
      "Features shape: torch.Size([1, 768])\n",
      "Labels shape: torch.Size([1, 1])\n",
      "Features shape: torch.Size([8, 768])\n",
      "Labels shape: torch.Size([8, 1])\n",
      "Features shape: torch.Size([8, 768])\n",
      "Labels shape: torch.Size([8, 1])\n",
      "Features shape: torch.Size([8, 768])\n",
      "Labels shape: torch.Size([8, 1])\n",
      "Features shape: torch.Size([8, 768])\n",
      "Labels shape: torch.Size([8, 1])\n",
      "Features shape: torch.Size([8, 768])\n",
      "Labels shape: torch.Size([8, 1])\n",
      "Features shape: torch.Size([8, 768])\n",
      "Labels shape: torch.Size([8, 1])\n",
      "Features shape: torch.Size([8, 768])\n",
      "Labels shape: torch.Size([8, 1])\n",
      "Features shape: torch.Size([8, 768])\n",
      "Labels shape: torch.Size([8, 1])\n",
      "Features shape: torch.Size([8, 768])\n",
      "Labels shape: torch.Size([8, 1])\n",
      "Features shape: torch.Size([8, 768])\n",
      "Labels shape: torch.Size([8, 1])\n",
      "Features shape: torch.Size([8, 768])\n",
      "Labels shape: torch.Size([8, 1])\n",
      "Features shape: torch.Size([8, 768])\n",
      "Labels shape: torch.Size([8, 1])\n",
      "Features shape: torch.Size([8, 768])\n",
      "Labels shape: torch.Size([8, 1])\n",
      "Features shape: torch.Size([8, 768])\n",
      "Labels shape: torch.Size([8, 1])\n",
      "Features shape: torch.Size([8, 768])\n",
      "Labels shape: torch.Size([8, 1])\n",
      "Features shape: torch.Size([8, 768])\n",
      "Labels shape: torch.Size([8, 1])\n",
      "Features shape: torch.Size([8, 768])\n",
      "Labels shape: torch.Size([8, 1])\n",
      "Features shape: torch.Size([8, 768])\n",
      "Labels shape: torch.Size([8, 1])\n",
      "Features shape: torch.Size([8, 768])\n",
      "Labels shape: torch.Size([8, 1])\n",
      "Features shape: torch.Size([8, 768])\n",
      "Labels shape: torch.Size([8, 1])\n",
      "Features shape: torch.Size([8, 768])\n",
      "Labels shape: torch.Size([8, 1])\n",
      "Features shape: torch.Size([8, 768])\n",
      "Labels shape: torch.Size([8, 1])\n",
      "Features shape: torch.Size([8, 768])\n",
      "Labels shape: torch.Size([8, 1])\n",
      "Features shape: torch.Size([8, 768])\n",
      "Labels shape: torch.Size([8, 1])\n",
      "Features shape: torch.Size([8, 768])\n",
      "Labels shape: torch.Size([8, 1])\n",
      "Features shape: torch.Size([1, 768])\n",
      "Labels shape: torch.Size([1, 1])\n",
      "Features shape: torch.Size([8, 768])\n",
      "Labels shape: torch.Size([8, 1])\n",
      "Features shape: torch.Size([8, 768])\n",
      "Labels shape: torch.Size([8, 1])\n",
      "Features shape: torch.Size([8, 768])\n",
      "Labels shape: torch.Size([8, 1])\n",
      "Features shape: torch.Size([8, 768])\n",
      "Labels shape: torch.Size([8, 1])\n",
      "Features shape: torch.Size([8, 768])\n",
      "Labels shape: torch.Size([8, 1])\n",
      "Features shape: torch.Size([8, 768])\n",
      "Labels shape: torch.Size([8, 1])\n",
      "Features shape: torch.Size([8, 768])\n",
      "Labels shape: torch.Size([8, 1])\n",
      "Features shape: torch.Size([8, 768])\n",
      "Labels shape: torch.Size([8, 1])\n",
      "Features shape: torch.Size([8, 768])\n",
      "Labels shape: torch.Size([8, 1])\n",
      "Features shape: torch.Size([8, 768])\n",
      "Labels shape: torch.Size([8, 1])\n",
      "Features shape: torch.Size([8, 768])\n",
      "Labels shape: torch.Size([8, 1])\n",
      "Features shape: torch.Size([8, 768])\n",
      "Labels shape: torch.Size([8, 1])\n",
      "Features shape: torch.Size([8, 768])\n",
      "Labels shape: torch.Size([8, 1])\n",
      "Features shape: torch.Size([8, 768])\n",
      "Labels shape: torch.Size([8, 1])\n",
      "Features shape: torch.Size([8, 768])\n",
      "Labels shape: torch.Size([8, 1])\n",
      "Features shape: torch.Size([8, 768])\n",
      "Labels shape: torch.Size([8, 1])\n",
      "Features shape: torch.Size([8, 768])\n",
      "Labels shape: torch.Size([8, 1])\n",
      "Features shape: torch.Size([8, 768])\n",
      "Labels shape: torch.Size([8, 1])\n",
      "Features shape: torch.Size([8, 768])\n",
      "Labels shape: torch.Size([8, 1])\n",
      "Features shape: torch.Size([8, 768])\n",
      "Labels shape: torch.Size([8, 1])\n",
      "Features shape: torch.Size([8, 768])\n",
      "Labels shape: torch.Size([8, 1])\n",
      "Features shape: torch.Size([8, 768])\n",
      "Labels shape: torch.Size([8, 1])\n",
      "Features shape: torch.Size([8, 768])\n",
      "Labels shape: torch.Size([8, 1])\n",
      "Features shape: torch.Size([8, 768])\n",
      "Labels shape: torch.Size([8, 1])\n",
      "Features shape: torch.Size([8, 768])\n",
      "Labels shape: torch.Size([8, 1])\n",
      "Features shape: torch.Size([1, 768])\n",
      "Labels shape: torch.Size([1, 1])\n",
      "Features shape: torch.Size([8, 768])\n",
      "Labels shape: torch.Size([8, 1])\n",
      "Features shape: torch.Size([8, 768])\n",
      "Labels shape: torch.Size([8, 1])\n",
      "Features shape: torch.Size([8, 768])\n",
      "Labels shape: torch.Size([8, 1])\n",
      "Features shape: torch.Size([8, 768])\n",
      "Labels shape: torch.Size([8, 1])\n",
      "Features shape: torch.Size([8, 768])\n",
      "Labels shape: torch.Size([8, 1])\n",
      "Features shape: torch.Size([8, 768])\n",
      "Labels shape: torch.Size([8, 1])\n",
      "Features shape: torch.Size([8, 768])\n",
      "Labels shape: torch.Size([8, 1])\n",
      "Features shape: torch.Size([8, 768])\n",
      "Labels shape: torch.Size([8, 1])\n",
      "Features shape: torch.Size([8, 768])\n",
      "Labels shape: torch.Size([8, 1])\n",
      "Features shape: torch.Size([8, 768])\n",
      "Labels shape: torch.Size([8, 1])\n",
      "Features shape: torch.Size([8, 768])\n",
      "Labels shape: torch.Size([8, 1])\n",
      "Features shape: torch.Size([8, 768])\n",
      "Labels shape: torch.Size([8, 1])\n",
      "Features shape: torch.Size([8, 768])\n",
      "Labels shape: torch.Size([8, 1])\n",
      "Features shape: torch.Size([8, 768])\n",
      "Labels shape: torch.Size([8, 1])\n",
      "Features shape: torch.Size([8, 768])\n",
      "Labels shape: torch.Size([8, 1])\n",
      "Features shape: torch.Size([8, 768])\n",
      "Labels shape: torch.Size([8, 1])\n",
      "Features shape: torch.Size([8, 768])\n",
      "Labels shape: torch.Size([8, 1])\n",
      "Features shape: torch.Size([8, 768])\n",
      "Labels shape: torch.Size([8, 1])\n",
      "Features shape: torch.Size([8, 768])\n",
      "Labels shape: torch.Size([8, 1])\n",
      "Features shape: torch.Size([8, 768])\n",
      "Labels shape: torch.Size([8, 1])\n",
      "Features shape: torch.Size([8, 768])\n",
      "Labels shape: torch.Size([8, 1])\n",
      "Features shape: torch.Size([8, 768])\n",
      "Labels shape: torch.Size([8, 1])\n",
      "Features shape: torch.Size([8, 768])\n",
      "Labels shape: torch.Size([8, 1])\n",
      "Features shape: torch.Size([8, 768])\n",
      "Labels shape: torch.Size([8, 1])\n",
      "Features shape: torch.Size([8, 768])\n",
      "Labels shape: torch.Size([8, 1])\n",
      "Features shape: torch.Size([1, 768])\n",
      "Labels shape: torch.Size([1, 1])\n",
      "Features shape: torch.Size([8, 768])\n",
      "Labels shape: torch.Size([8, 1])\n",
      "Features shape: torch.Size([8, 768])\n",
      "Labels shape: torch.Size([8, 1])\n",
      "Features shape: torch.Size([8, 768])\n",
      "Labels shape: torch.Size([8, 1])\n",
      "Features shape: torch.Size([8, 768])\n",
      "Labels shape: torch.Size([8, 1])\n",
      "Features shape: torch.Size([8, 768])\n",
      "Labels shape: torch.Size([8, 1])\n",
      "Features shape: torch.Size([8, 768])\n",
      "Labels shape: torch.Size([8, 1])\n",
      "Features shape: torch.Size([8, 768])\n",
      "Labels shape: torch.Size([8, 1])\n",
      "Features shape: torch.Size([8, 768])\n",
      "Labels shape: torch.Size([8, 1])\n",
      "Features shape: torch.Size([8, 768])\n",
      "Labels shape: torch.Size([8, 1])\n",
      "Features shape: torch.Size([8, 768])\n",
      "Labels shape: torch.Size([8, 1])\n",
      "Features shape: torch.Size([8, 768])\n",
      "Labels shape: torch.Size([8, 1])\n",
      "Features shape: torch.Size([8, 768])\n",
      "Labels shape: torch.Size([8, 1])\n",
      "Features shape: torch.Size([8, 768])\n",
      "Labels shape: torch.Size([8, 1])\n",
      "Features shape: torch.Size([8, 768])\n",
      "Labels shape: torch.Size([8, 1])\n",
      "Features shape: torch.Size([8, 768])\n",
      "Labels shape: torch.Size([8, 1])\n",
      "Features shape: torch.Size([8, 768])\n",
      "Labels shape: torch.Size([8, 1])\n",
      "Features shape: torch.Size([8, 768])\n",
      "Labels shape: torch.Size([8, 1])\n",
      "Features shape: torch.Size([8, 768])\n",
      "Labels shape: torch.Size([8, 1])\n",
      "Features shape: torch.Size([8, 768])\n",
      "Labels shape: torch.Size([8, 1])\n",
      "Features shape: torch.Size([8, 768])\n",
      "Labels shape: torch.Size([8, 1])\n",
      "Features shape: torch.Size([8, 768])\n",
      "Labels shape: torch.Size([8, 1])\n",
      "Features shape: torch.Size([8, 768])\n",
      "Labels shape: torch.Size([8, 1])\n",
      "Features shape: torch.Size([8, 768])\n",
      "Labels shape: torch.Size([8, 1])\n",
      "Features shape: torch.Size([8, 768])\n",
      "Labels shape: torch.Size([8, 1])\n",
      "Features shape: torch.Size([8, 768])\n",
      "Labels shape: torch.Size([8, 1])\n",
      "Features shape: torch.Size([1, 768])\n",
      "Labels shape: torch.Size([1, 1])\n",
      "Features shape: torch.Size([8, 768])\n",
      "Labels shape: torch.Size([8, 1])\n",
      "Features shape: torch.Size([8, 768])\n",
      "Labels shape: torch.Size([8, 1])\n",
      "Features shape: torch.Size([8, 768])\n",
      "Labels shape: torch.Size([8, 1])\n",
      "Features shape: torch.Size([8, 768])\n",
      "Labels shape: torch.Size([8, 1])\n",
      "Features shape: torch.Size([8, 768])\n",
      "Labels shape: torch.Size([8, 1])\n",
      "Features shape: torch.Size([8, 768])\n",
      "Labels shape: torch.Size([8, 1])\n",
      "Features shape: torch.Size([8, 768])\n",
      "Labels shape: torch.Size([8, 1])\n",
      "Features shape: torch.Size([8, 768])\n",
      "Labels shape: torch.Size([8, 1])\n",
      "Features shape: torch.Size([8, 768])\n",
      "Labels shape: torch.Size([8, 1])\n",
      "Features shape: torch.Size([8, 768])\n",
      "Labels shape: torch.Size([8, 1])\n",
      "Features shape: torch.Size([8, 768])\n",
      "Labels shape: torch.Size([8, 1])\n",
      "Features shape: torch.Size([8, 768])\n",
      "Labels shape: torch.Size([8, 1])\n",
      "Features shape: torch.Size([8, 768])\n",
      "Labels shape: torch.Size([8, 1])\n",
      "Features shape: torch.Size([8, 768])\n",
      "Labels shape: torch.Size([8, 1])\n",
      "Features shape: torch.Size([8, 768])\n",
      "Labels shape: torch.Size([8, 1])\n",
      "Features shape: torch.Size([8, 768])\n",
      "Labels shape: torch.Size([8, 1])\n",
      "Features shape: torch.Size([8, 768])\n",
      "Labels shape: torch.Size([8, 1])\n",
      "Features shape: torch.Size([8, 768])\n",
      "Labels shape: torch.Size([8, 1])\n",
      "Features shape: torch.Size([8, 768])\n",
      "Labels shape: torch.Size([8, 1])\n",
      "Features shape: torch.Size([8, 768])\n",
      "Labels shape: torch.Size([8, 1])\n",
      "Features shape: torch.Size([8, 768])\n",
      "Labels shape: torch.Size([8, 1])\n",
      "Features shape: torch.Size([8, 768])\n",
      "Labels shape: torch.Size([8, 1])\n",
      "Features shape: torch.Size([8, 768])\n",
      "Labels shape: torch.Size([8, 1])\n",
      "Features shape: torch.Size([8, 768])\n",
      "Labels shape: torch.Size([8, 1])\n",
      "Features shape: torch.Size([8, 768])\n",
      "Labels shape: torch.Size([8, 1])\n",
      "Features shape: torch.Size([1, 768])\n",
      "Labels shape: torch.Size([1, 1])\n",
      "Features shape: torch.Size([8, 768])\n",
      "Labels shape: torch.Size([8, 1])\n",
      "Features shape: torch.Size([8, 768])\n",
      "Labels shape: torch.Size([8, 1])\n",
      "Features shape: torch.Size([8, 768])\n",
      "Labels shape: torch.Size([8, 1])\n",
      "Features shape: torch.Size([8, 768])\n",
      "Labels shape: torch.Size([8, 1])\n",
      "Features shape: torch.Size([8, 768])\n",
      "Labels shape: torch.Size([8, 1])\n",
      "Features shape: torch.Size([8, 768])\n",
      "Labels shape: torch.Size([8, 1])\n",
      "Features shape: torch.Size([8, 768])\n",
      "Labels shape: torch.Size([8, 1])\n",
      "Features shape: torch.Size([8, 768])\n",
      "Labels shape: torch.Size([8, 1])\n",
      "Features shape: torch.Size([8, 768])\n",
      "Labels shape: torch.Size([8, 1])\n",
      "Features shape: torch.Size([8, 768])\n",
      "Labels shape: torch.Size([8, 1])\n",
      "Features shape: torch.Size([8, 768])\n",
      "Labels shape: torch.Size([8, 1])\n",
      "Features shape: torch.Size([8, 768])\n",
      "Labels shape: torch.Size([8, 1])\n",
      "Features shape: torch.Size([8, 768])\n",
      "Labels shape: torch.Size([8, 1])\n",
      "Features shape: torch.Size([8, 768])\n",
      "Labels shape: torch.Size([8, 1])\n",
      "Features shape: torch.Size([8, 768])\n",
      "Labels shape: torch.Size([8, 1])\n",
      "Features shape: torch.Size([8, 768])\n",
      "Labels shape: torch.Size([8, 1])\n",
      "Features shape: torch.Size([8, 768])\n",
      "Labels shape: torch.Size([8, 1])\n",
      "Features shape: torch.Size([8, 768])\n",
      "Labels shape: torch.Size([8, 1])\n",
      "Features shape: torch.Size([8, 768])\n",
      "Labels shape: torch.Size([8, 1])\n",
      "Features shape: torch.Size([8, 768])\n",
      "Labels shape: torch.Size([8, 1])\n",
      "Features shape: torch.Size([8, 768])\n",
      "Labels shape: torch.Size([8, 1])\n",
      "Features shape: torch.Size([8, 768])\n",
      "Labels shape: torch.Size([8, 1])\n",
      "Features shape: torch.Size([8, 768])\n",
      "Labels shape: torch.Size([8, 1])\n",
      "Features shape: torch.Size([8, 768])\n",
      "Labels shape: torch.Size([8, 1])\n",
      "Features shape: torch.Size([8, 768])\n",
      "Labels shape: torch.Size([8, 1])\n",
      "Features shape: torch.Size([1, 768])\n",
      "Labels shape: torch.Size([1, 1])\n",
      "Features shape: torch.Size([8, 768])\n",
      "Labels shape: torch.Size([8, 1])\n",
      "Features shape: torch.Size([8, 768])\n",
      "Labels shape: torch.Size([8, 1])\n",
      "Features shape: torch.Size([8, 768])\n",
      "Labels shape: torch.Size([8, 1])\n",
      "Features shape: torch.Size([8, 768])\n",
      "Labels shape: torch.Size([8, 1])\n",
      "Features shape: torch.Size([8, 768])\n",
      "Labels shape: torch.Size([8, 1])\n",
      "Features shape: torch.Size([8, 768])\n",
      "Labels shape: torch.Size([8, 1])\n",
      "Features shape: torch.Size([8, 768])\n",
      "Labels shape: torch.Size([8, 1])\n",
      "Features shape: torch.Size([8, 768])\n",
      "Labels shape: torch.Size([8, 1])\n",
      "Features shape: torch.Size([8, 768])\n",
      "Labels shape: torch.Size([8, 1])\n",
      "Features shape: torch.Size([8, 768])\n",
      "Labels shape: torch.Size([8, 1])\n",
      "Features shape: torch.Size([8, 768])\n",
      "Labels shape: torch.Size([8, 1])\n",
      "Features shape: torch.Size([8, 768])\n",
      "Labels shape: torch.Size([8, 1])\n",
      "Features shape: torch.Size([8, 768])\n",
      "Labels shape: torch.Size([8, 1])\n",
      "Features shape: torch.Size([8, 768])\n",
      "Labels shape: torch.Size([8, 1])\n",
      "Features shape: torch.Size([8, 768])\n",
      "Labels shape: torch.Size([8, 1])\n",
      "Features shape: torch.Size([8, 768])\n",
      "Labels shape: torch.Size([8, 1])\n",
      "Features shape: torch.Size([8, 768])\n",
      "Labels shape: torch.Size([8, 1])\n",
      "Features shape: torch.Size([8, 768])\n",
      "Labels shape: torch.Size([8, 1])\n",
      "Features shape: torch.Size([8, 768])\n",
      "Labels shape: torch.Size([8, 1])\n",
      "Features shape: torch.Size([8, 768])\n",
      "Labels shape: torch.Size([8, 1])\n",
      "Features shape: torch.Size([8, 768])\n",
      "Labels shape: torch.Size([8, 1])\n",
      "Features shape: torch.Size([8, 768])\n",
      "Labels shape: torch.Size([8, 1])\n",
      "Features shape: torch.Size([8, 768])\n",
      "Labels shape: torch.Size([8, 1])\n",
      "Features shape: torch.Size([8, 768])\n",
      "Labels shape: torch.Size([8, 1])\n",
      "Features shape: torch.Size([8, 768])\n",
      "Labels shape: torch.Size([8, 1])\n",
      "Features shape: torch.Size([1, 768])\n",
      "Labels shape: torch.Size([1, 1])\n",
      "Features shape: torch.Size([8, 768])\n",
      "Labels shape: torch.Size([8, 1])\n",
      "Features shape: torch.Size([8, 768])\n",
      "Labels shape: torch.Size([8, 1])\n",
      "Features shape: torch.Size([8, 768])\n",
      "Labels shape: torch.Size([8, 1])\n",
      "Features shape: torch.Size([8, 768])\n",
      "Labels shape: torch.Size([8, 1])\n",
      "Features shape: torch.Size([8, 768])\n",
      "Labels shape: torch.Size([8, 1])\n",
      "Features shape: torch.Size([8, 768])\n",
      "Labels shape: torch.Size([8, 1])\n",
      "Features shape: torch.Size([8, 768])\n",
      "Labels shape: torch.Size([8, 1])\n",
      "Features shape: torch.Size([8, 768])\n",
      "Labels shape: torch.Size([8, 1])\n",
      "Features shape: torch.Size([8, 768])\n",
      "Labels shape: torch.Size([8, 1])\n",
      "Features shape: torch.Size([8, 768])\n",
      "Labels shape: torch.Size([8, 1])\n",
      "Features shape: torch.Size([8, 768])\n",
      "Labels shape: torch.Size([8, 1])\n",
      "Features shape: torch.Size([8, 768])\n",
      "Labels shape: torch.Size([8, 1])\n",
      "Features shape: torch.Size([8, 768])\n",
      "Labels shape: torch.Size([8, 1])\n",
      "Features shape: torch.Size([8, 768])\n",
      "Labels shape: torch.Size([8, 1])\n",
      "Features shape: torch.Size([8, 768])\n",
      "Labels shape: torch.Size([8, 1])\n",
      "Features shape: torch.Size([8, 768])\n",
      "Labels shape: torch.Size([8, 1])\n",
      "Features shape: torch.Size([8, 768])\n",
      "Labels shape: torch.Size([8, 1])\n",
      "Features shape: torch.Size([8, 768])\n",
      "Labels shape: torch.Size([8, 1])\n",
      "Features shape: torch.Size([8, 768])\n",
      "Labels shape: torch.Size([8, 1])\n",
      "Features shape: torch.Size([8, 768])\n",
      "Labels shape: torch.Size([8, 1])\n",
      "Features shape: torch.Size([8, 768])\n",
      "Labels shape: torch.Size([8, 1])\n",
      "Features shape: torch.Size([8, 768])\n",
      "Labels shape: torch.Size([8, 1])\n",
      "Features shape: torch.Size([8, 768])\n",
      "Labels shape: torch.Size([8, 1])\n",
      "Features shape: torch.Size([8, 768])\n",
      "Labels shape: torch.Size([8, 1])\n",
      "Features shape: torch.Size([8, 768])\n",
      "Labels shape: torch.Size([8, 1])\n",
      "Features shape: torch.Size([1, 768])\n",
      "Labels shape: torch.Size([1, 1])\n",
      "Features shape: torch.Size([8, 768])\n",
      "Labels shape: torch.Size([8, 1])\n",
      "Features shape: torch.Size([8, 768])\n",
      "Labels shape: torch.Size([8, 1])\n",
      "Features shape: torch.Size([8, 768])\n",
      "Labels shape: torch.Size([8, 1])\n",
      "Features shape: torch.Size([8, 768])\n",
      "Labels shape: torch.Size([8, 1])\n",
      "Features shape: torch.Size([8, 768])\n",
      "Labels shape: torch.Size([8, 1])\n",
      "Features shape: torch.Size([8, 768])\n",
      "Labels shape: torch.Size([8, 1])\n",
      "Features shape: torch.Size([8, 768])\n",
      "Labels shape: torch.Size([8, 1])\n",
      "Features shape: torch.Size([8, 768])\n",
      "Labels shape: torch.Size([8, 1])\n",
      "Features shape: torch.Size([8, 768])\n",
      "Labels shape: torch.Size([8, 1])\n",
      "Features shape: torch.Size([8, 768])\n",
      "Labels shape: torch.Size([8, 1])\n",
      "Features shape: torch.Size([8, 768])\n",
      "Labels shape: torch.Size([8, 1])\n",
      "Features shape: torch.Size([8, 768])\n",
      "Labels shape: torch.Size([8, 1])\n",
      "Features shape: torch.Size([8, 768])\n",
      "Labels shape: torch.Size([8, 1])\n",
      "Features shape: torch.Size([8, 768])\n",
      "Labels shape: torch.Size([8, 1])\n",
      "Features shape: torch.Size([8, 768])\n",
      "Labels shape: torch.Size([8, 1])\n",
      "Features shape: torch.Size([8, 768])\n",
      "Labels shape: torch.Size([8, 1])\n",
      "Features shape: torch.Size([8, 768])\n",
      "Labels shape: torch.Size([8, 1])\n",
      "Features shape: torch.Size([8, 768])\n",
      "Labels shape: torch.Size([8, 1])\n",
      "Features shape: torch.Size([8, 768])\n",
      "Labels shape: torch.Size([8, 1])\n",
      "Features shape: torch.Size([8, 768])\n",
      "Labels shape: torch.Size([8, 1])\n",
      "Features shape: torch.Size([8, 768])\n",
      "Labels shape: torch.Size([8, 1])\n",
      "Features shape: torch.Size([8, 768])\n",
      "Labels shape: torch.Size([8, 1])\n",
      "Features shape: torch.Size([8, 768])\n",
      "Labels shape: torch.Size([8, 1])\n",
      "Features shape: torch.Size([8, 768])\n",
      "Labels shape: torch.Size([8, 1])\n",
      "Features shape: torch.Size([8, 768])\n",
      "Labels shape: torch.Size([8, 1])\n",
      "Features shape: torch.Size([1, 768])\n",
      "Labels shape: torch.Size([1, 1])\n"
     ]
    }
   ],
   "source": [
    "#implement a basic training loop for the binary classification model in Pytorch\n",
    "criterion = nn.BCEWithLogitsLoss()\n",
    "epochs = 10\n",
    "for epoch in range(epochs):\n",
    "    for features, labels in train_dataloader:\n",
    "        print(f\"Features shape: {features.shape}\")\n",
    "        print(f\"Labels shape: {labels.shape}\")\n",
    "        features, labels = features.to(device), labels.to(device)\n",
    "        optimizer.zero_grad() #Reset the calculation of the gradient\n",
    "        outputs = model_BERT(features) #defines output to return the predictions that pass through the model\n",
    "        loss = criterion(outputs,labels.float()) #Calculate the difference between what was obtained and the real labels\n",
    "        loss.backward() #Retropropagacion: Calculate the gradients of the loss with respect to the pesos of the model\n",
    "        optimizer.step() #Update the pesos of the model using the optimizer and the calculated gradients"
   ]
  },
  {
   "cell_type": "code",
   "execution_count": 64,
   "metadata": {},
   "outputs": [
    {
     "data": {
      "text/plain": [
       "Sequential(\n",
       "  (0): Linear(in_features=768, out_features=256, bias=True)\n",
       "  (1): ReLU()\n",
       "  (2): Dropout(p=0.3, inplace=False)\n",
       "  (3): Linear(in_features=256, out_features=128, bias=True)\n",
       "  (4): ReLU()\n",
       "  (5): Dropout(p=0.3, inplace=False)\n",
       "  (6): Linear(in_features=128, out_features=1, bias=True)\n",
       ")"
      ]
     },
     "execution_count": 64,
     "metadata": {},
     "output_type": "execute_result"
    }
   ],
   "source": [
    "model_BERT.eval()"
   ]
  },
  {
   "cell_type": "code",
   "execution_count": 65,
   "metadata": {},
   "outputs": [
    {
     "data": {
      "text/plain": [
       "Sequential(\n",
       "  (0): Linear(in_features=768, out_features=256, bias=True)\n",
       "  (1): ReLU()\n",
       "  (2): Dropout(p=0.3, inplace=False)\n",
       "  (3): Linear(in_features=256, out_features=128, bias=True)\n",
       "  (4): ReLU()\n",
       "  (5): Dropout(p=0.3, inplace=False)\n",
       "  (6): Linear(in_features=128, out_features=1, bias=True)\n",
       ")"
      ]
     },
     "execution_count": 65,
     "metadata": {},
     "output_type": "execute_result"
    }
   ],
   "source": [
    "#set the BERT model to evaluation mode.\n",
    "model_BERT.to(device)"
   ]
  },
  {
   "cell_type": "code",
   "execution_count": 66,
   "metadata": {},
   "outputs": [],
   "source": [
    "# Function to perform predictions\n",
    "def predict(model, dataloader, device):\n",
    "    \"\"\"\n",
    "    Performs predictions using a given PyTorch model on a specified dataloader.\n",
    "\n",
    "    Args:\n",
    "        model (torch.nn.Module): The PyTorch model to use for predictions.\n",
    "        dataloader (torch.utils.data.DataLoader): The dataloader containing the data to predict on.\n",
    "        device (torch.device): The device (CPU or GPU) where the model and data are located.\n",
    "\n",
    "    Returns:\n",
    "        tuple: A tuple containing three NumPy arrays:\n",
    "            - all_probabilities (np.array): Probabilities of the positive class for each sample.\n",
    "            - all_binary_predictions (np.array): Binary predictions (0 or 1) for each sample.\n",
    "            - all_labels (np.array): True labels for each sample.\n",
    "    \"\"\"\n",
    "\n",
    "    model.eval()  # Put the model in evaluation mode (disables dropout, etc.)\n",
    "    all_probabilities = []  # Initialize list to store probabilities\n",
    "    all_binary_predictions = [] # Initialize list to store binary predictions\n",
    "    all_labels = [] # Initialize list to store true labels\n",
    "\n",
    "    with torch.no_grad(): # Disable gradient calculations to save memory and time\n",
    "        for features, labels in dataloader: # Iterate over batches in the dataloader\n",
    "            features_device = features.to(device) # Move feature batch to the specified device\n",
    "            predictions = model(features_device) # Get predictions from the model\n",
    "            probabilities = torch.sigmoid(predictions).squeeze().cpu().numpy() # Apply sigmoid, remove extra dimensions, move to CPU, convert to NumPy\n",
    "            probabilities = np.atleast_1d(probabilities) # Ensure probabilities are at least 1D for consistency\n",
    "            binary_predictions = (probabilities >= 0.5).astype(int) # Convert probabilities to binary predictions based on a threshold of 0.5\n",
    "\n",
    "            all_probabilities.extend(probabilities) # Add batch probabilities to the overall list\n",
    "            all_binary_predictions.extend(binary_predictions) # Add batch binary predictions to the overall list\n",
    "            labels_numpy = labels.squeeze().cpu().numpy() # Remove extra dimensions, move labels to CPU, convert to NumPy\n",
    "            labels_numpy = np.atleast_1d(labels_numpy) # Ensure labels are at least 1D for consistency\n",
    "            all_labels.extend(labels_numpy) # Add batch labels to the overall list\n",
    "\n",
    "    return np.array(all_probabilities), np.array(all_binary_predictions), np.array(all_labels) # Return the collected probabilities, predictions, and labels as NumPy arrays"
   ]
  },
  {
   "cell_type": "code",
   "execution_count": 67,
   "metadata": {},
   "outputs": [],
   "source": [
    "# Predict\n",
    "probabilities_train, binary_predictions_train, labels_train = predict(model_BERT, train_dataloader, device)\n",
    "probabilities_test, binary_predictions_test, labels_test = predict(model_BERT, test_dataloader, device)"
   ]
  },
  {
   "cell_type": "code",
   "execution_count": 68,
   "metadata": {},
   "outputs": [
    {
     "data": {
      "text/html": [
       "<div>\n",
       "<style scoped>\n",
       "    .dataframe tbody tr th:only-of-type {\n",
       "        vertical-align: middle;\n",
       "    }\n",
       "\n",
       "    .dataframe tbody tr th {\n",
       "        vertical-align: top;\n",
       "    }\n",
       "\n",
       "    .dataframe thead th {\n",
       "        text-align: right;\n",
       "    }\n",
       "</style>\n",
       "<table border=\"1\" class=\"dataframe\">\n",
       "  <thead>\n",
       "    <tr style=\"text-align: right;\">\n",
       "      <th></th>\n",
       "      <th>Train</th>\n",
       "      <th>Test</th>\n",
       "    </tr>\n",
       "  </thead>\n",
       "  <tbody>\n",
       "    <tr>\n",
       "      <th>Accuracy</th>\n",
       "      <td>0.52</td>\n",
       "      <td>0.48</td>\n",
       "    </tr>\n",
       "    <tr>\n",
       "      <th>Precision</th>\n",
       "      <td>0.52</td>\n",
       "      <td>0.48</td>\n",
       "    </tr>\n",
       "    <tr>\n",
       "      <th>Recall</th>\n",
       "      <td>1.00</td>\n",
       "      <td>1.00</td>\n",
       "    </tr>\n",
       "    <tr>\n",
       "      <th>F1-score</th>\n",
       "      <td>0.69</td>\n",
       "      <td>0.65</td>\n",
       "    </tr>\n",
       "    <tr>\n",
       "      <th>AUC-ROC</th>\n",
       "      <td>0.43</td>\n",
       "      <td>0.42</td>\n",
       "    </tr>\n",
       "  </tbody>\n",
       "</table>\n",
       "</div>"
      ],
      "text/plain": [
       "           Train  Test\n",
       "Accuracy    0.52  0.48\n",
       "Precision   0.52  0.48\n",
       "Recall      1.00  1.00\n",
       "F1-score    0.69  0.65\n",
       "AUC-ROC     0.43  0.42"
      ]
     },
     "execution_count": 68,
     "metadata": {},
     "output_type": "execute_result"
    }
   ],
   "source": [
    "# Calculate metrics \n",
    "accuracy_train = accuracy_score(labels_train, binary_predictions_train)\n",
    "precision_train = precision_score(labels_train, binary_predictions_train)\n",
    "recall_train = recall_score(labels_train, binary_predictions_train)\n",
    "f1_train = f1_score(labels_train, binary_predictions_train)\n",
    "auc_train = roc_auc_score(labels_train, probabilities_train)\n",
    "\n",
    "accuracy_test = accuracy_score(labels_test, binary_predictions_test)\n",
    "precision_test = precision_score(labels_test, binary_predictions_test)\n",
    "recall_test = recall_score(labels_test, binary_predictions_test)\n",
    "f1_test = f1_score(labels_test, binary_predictions_test)\n",
    "auc_test = roc_auc_score(labels_test, probabilities_test)\n",
    "\n",
    "data = {\n",
    "    \"Train\": [accuracy_train, precision_train, recall_train, f1_train, auc_train],\n",
    "    \"Test\": [accuracy_test, precision_test, recall_test, f1_test, auc_test]\n",
    "}\n",
    "\n",
    "# Create a dating data with metrics as indices\n",
    "df_metrics = pd.DataFrame(data, index=[\"Accuracy\", \"Precision\", \"Recall\", \"F1-score\", \"AUC-ROC\"])\n",
    "df_metrics = df_metrics.round(2) \n",
    "df_metrics\n"
   ]
  },
  {
   "cell_type": "markdown",
   "metadata": {},
   "source": [
    "## Red neuronal construida con Tensorflow/Keras"
   ]
  },
  {
   "cell_type": "code",
   "execution_count": 69,
   "metadata": {},
   "outputs": [],
   "source": [
    "import tensorflow as tf\n",
    "from tensorflow.keras import regularizers\n",
    "from tensorflow.keras.callbacks import EarlyStopping, LearningRateScheduler\n",
    "def keras_model(train_features, train_t, test_features, test_t, learning_rate=0.001, epochs=100, batch_size=32):\n",
    "    \"\"\"\n",
    "    Evaluates a TensorFlow/Keras logistic regression model with the given parameters.\n",
    "\n",
    "    Args:\n",
    "        train_features: Training data features (NumPy array).\n",
    "        train_t: Training data labels (NumPy array).\n",
    "        test_features: Test data features (NumPy array).\n",
    "        test_t: Test data labels (NumPy array).\n",
    "        learning_rate: Learning rate for the Adam optimizer.\n",
    "        epochs: Number of training epochs.\n",
    "        batch_size: Size of batches used during training.\n",
    "\n",
    "    Returns:\n",
    "        A tuple containing:\n",
    "            - A pandas DataFrame with evaluation metrics for the training and test sets.\n",
    "            - The trained Keras model.\n",
    "    \"\"\"\n",
    "    # Define the Keras model architecture:\n",
    "    # - A Sequential model is created.\n",
    "    # - A Dense (fully connected) layer with 256 neurons, ReLU activation, and L2 regularization is added.\n",
    "    # - A Dropout layer with a 20% dropout rate is added for regularization.\n",
    "    # - A Dense output layer with 1 neuron and sigmoid activation is added for binary classification.\n",
    "    model = tf.keras.Sequential([\n",
    "        tf.keras.layers.Dense(256, activation='relu', input_shape=(train_features.shape[1],), kernel_regularizer=regularizers.l2(0.0008)),\n",
    "        tf.keras.layers.Dropout(0.2),\n",
    "        tf.keras.layers.Dense(1, activation='sigmoid')\n",
    "    ])\n",
    "\n",
    "    # Configure the optimizer and compile the model:\n",
    "    # - Adam optimizer is used with the specified learning rate.\n",
    "    # - Binary cross-entropy loss is used for binary classification.\n",
    "    # - Accuracy is used as the evaluation metric.\n",
    "    optimizer = tf.keras.optimizers.Adam(learning_rate=learning_rate)\n",
    "    model.compile(optimizer=optimizer, loss='binary_crossentropy', metrics=['accuracy'])\n",
    "\n",
    "    # Define callbacks for training:\n",
    "    # - EarlyStopping: Stops training when validation loss stops improving (patience=5).\n",
    "    # - LearningRateScheduler: Reduces the learning rate by 10% after each epoch.\n",
    "    early_stopping = EarlyStopping(monitor='val_loss', patience=5, restore_best_weights=True)\n",
    "    lr_scheduler = LearningRateScheduler(lambda epoch: learning_rate * 0.9 ** epoch)\n",
    "\n",
    "    # Train the model:\n",
    "    # - The model is trained for the specified number of epochs, with the given batch size.\n",
    "    # - 20% of the training data is used for validation.\n",
    "    # - Early stopping and learning rate scheduling are applied.\n",
    "    # - Verbose=0 is used to suppress training progress output.\n",
    "    model.fit(train_features, train_t, epochs=epochs, batch_size=batch_size, validation_split=0.2, callbacks=[early_stopping, lr_scheduler], verbose=0)\n",
    "\n",
    "    # Obtain prediction probabilities:\n",
    "    # - Probabilities are obtained for both training and test sets.\n",
    "    probabilities_train = model.predict(train_features,verbose=0).flatten()\n",
    "    probabilities_test = model.predict(test_features,verbose=0).flatten()\n",
    "\n",
    "    # Convert probabilities to binary predictions:\n",
    "    # - Probabilities are converted to binary predictions using a threshold of 0.5.\n",
    "    binary_predictions_train = (probabilities_train >= 0.5).astype(int)\n",
    "    binary_predictions_test = (probabilities_test >= 0.5).astype(int)\n",
    "\n",
    "    # Calculate evaluation metrics for the training set:\n",
    "    accuracy_train = accuracy_score(train_t, binary_predictions_train)\n",
    "    precision_train = precision_score(train_t, binary_predictions_train)\n",
    "    recall_train = recall_score(train_t, binary_predictions_train)\n",
    "    f1_train = f1_score(train_t, binary_predictions_train)\n",
    "    auc_train = roc_auc_score(train_t, probabilities_train)\n",
    "\n",
    "    # Calculate evaluation metrics for the test set:\n",
    "    accuracy_test = accuracy_score(test_t, binary_predictions_test)\n",
    "    precision_test = precision_score(test_t, binary_predictions_test)\n",
    "    recall_test = recall_score(test_t, binary_predictions_test)\n",
    "    f1_test = f1_score(test_t, binary_predictions_test)\n",
    "    auc_test = roc_auc_score(test_t, probabilities_test)\n",
    "\n",
    "    # Create a pandas DataFrame to store the metrics:\n",
    "    metrics_data = {\n",
    "        \"Train\": [accuracy_train, precision_train, recall_train, f1_train, auc_train],\n",
    "        \"Test\": [accuracy_test, precision_test, recall_test, f1_test, auc_test]\n",
    "    }\n",
    "    metrics = pd.DataFrame(metrics_data, index=[\"Accuracy\", \"Precision\", \"Recall\", \"F1-score\", \"AUC-ROC\"])\n",
    "    metrics = metrics.round(2)\n",
    "\n",
    "    return metrics, model"
   ]
  },
  {
   "cell_type": "code",
   "execution_count": 70,
   "metadata": {},
   "outputs": [],
   "source": [
    "learning_rates = [0.0001,0.001, 0.01, 0.1, 1.0]\n",
    "epochs_list = [10, 20, 30,50,100]"
   ]
  },
  {
   "cell_type": "code",
   "execution_count": 71,
   "metadata": {},
   "outputs": [
    {
     "data": {
      "text/html": [
       "<div>\n",
       "<style scoped>\n",
       "    .dataframe tbody tr th:only-of-type {\n",
       "        vertical-align: middle;\n",
       "    }\n",
       "\n",
       "    .dataframe tbody tr th {\n",
       "        vertical-align: top;\n",
       "    }\n",
       "\n",
       "    .dataframe thead th {\n",
       "        text-align: right;\n",
       "    }\n",
       "</style>\n",
       "<table border=\"1\" class=\"dataframe\">\n",
       "  <thead>\n",
       "    <tr style=\"text-align: right;\">\n",
       "      <th></th>\n",
       "      <th>Train</th>\n",
       "      <th>Test</th>\n",
       "    </tr>\n",
       "  </thead>\n",
       "  <tbody>\n",
       "    <tr>\n",
       "      <th>Accuracy</th>\n",
       "      <td>0.98</td>\n",
       "      <td>0.78</td>\n",
       "    </tr>\n",
       "    <tr>\n",
       "      <th>Precision</th>\n",
       "      <td>0.98</td>\n",
       "      <td>0.77</td>\n",
       "    </tr>\n",
       "    <tr>\n",
       "      <th>Recall</th>\n",
       "      <td>0.98</td>\n",
       "      <td>0.77</td>\n",
       "    </tr>\n",
       "    <tr>\n",
       "      <th>F1-score</th>\n",
       "      <td>0.98</td>\n",
       "      <td>0.77</td>\n",
       "    </tr>\n",
       "    <tr>\n",
       "      <th>AUC-ROC</th>\n",
       "      <td>0.98</td>\n",
       "      <td>0.79</td>\n",
       "    </tr>\n",
       "  </tbody>\n",
       "</table>\n",
       "</div>"
      ],
      "text/plain": [
       "           Train  Test\n",
       "Accuracy    0.98  0.78\n",
       "Precision   0.98  0.77\n",
       "Recall      0.98  0.77\n",
       "F1-score    0.98  0.77\n",
       "AUC-ROC     0.98  0.79"
      ]
     },
     "execution_count": 71,
     "metadata": {},
     "output_type": "execute_result"
    }
   ],
   "source": [
    "for lr in learning_rates:\n",
    "    for epochs in epochs_list:\n",
    "        acc_metrics, model_keras = keras_model(train_features_9, train_target, test_features_9, test_target, learning_rate=lr, epochs=epochs,batch_size=32)\n",
    "\n",
    "# Print the results\n",
    "acc_metrics"
   ]
  },
  {
   "cell_type": "markdown",
   "metadata": {},
   "source": [
    "## My reviews"
   ]
  },
  {
   "cell_type": "code",
   "execution_count": 72,
   "metadata": {},
   "outputs": [],
   "source": [
    "# You can completely eliminate these reviews and try your models in your own reviews; Those shown below are only examples\n",
    "\n",
    "my_reviews = pd.DataFrame([\n",
    "    'I did not simply like it, not my kind of movie.',\n",
    "    'Well, I was bored and felt asleep in the middle of the movie.',\n",
    "    'I was really fascinated with the movie',    \n",
    "    'Even the actors looked really old and disinterested, and they got paid to be in the movie. What a soulless cash grab.',\n",
    "    'I didn\\'t expect the reboot to be so good! Writers really cared about the source material',\n",
    "    'The movie had its upsides and downsides, but I feel like overall it\\'s a decent flick. I could see myself going to see it again.',\n",
    "    'What a rotten attempt at a comedy. Not a single joke lands, everyone acts annoying and loud, even kids won\\'t like this!',\n",
    "    'Launching on Netflix was a brave move & I really appreciate being able to binge on episode after episode, of this exciting intelligent new drama.'\n",
    "], columns=['review'])\n",
    "\n",
    "\n",
    "my_reviews['review_norm'] = my_reviews['review'].apply(clear_text)\n",
    "\n",
    "my_reviews\n",
    "\n",
    "texts = my_reviews['review_norm'].tolist()"
   ]
  },
  {
   "cell_type": "markdown",
   "metadata": {},
   "source": [
    "## Keras Model"
   ]
  },
  {
   "cell_type": "code",
   "execution_count": 73,
   "metadata": {},
   "outputs": [
    {
     "data": {
      "application/vnd.jupyter.widget-view+json": {
       "model_id": "86bfebea5492447ea62a928f078a1273",
       "version_major": 2,
       "version_minor": 0
      },
      "text/plain": [
       "  0%|          | 0/1 [00:00<?, ?it/s]"
      ]
     },
     "metadata": {},
     "output_type": "display_data"
    }
   ],
   "source": [
    "reviews = BERT_text_to_embeddings(texts,force_device='mps', max_length=512)"
   ]
  },
  {
   "cell_type": "code",
   "execution_count": 74,
   "metadata": {},
   "outputs": [],
   "source": [
    "predictions = model_keras(reviews)"
   ]
  },
  {
   "cell_type": "code",
   "execution_count": 75,
   "metadata": {},
   "outputs": [
    {
     "name": "stdout",
     "output_type": "stream",
     "text": [
      "tf.Tensor(\n",
      "[[0.]\n",
      " [0.]\n",
      " [0.]\n",
      " [0.]\n",
      " [0.]\n",
      " [1.]\n",
      " [0.]\n",
      " [1.]], shape=(8, 1), dtype=float32)\n"
     ]
    }
   ],
   "source": [
    "print(predictions)"
   ]
  },
  {
   "cell_type": "code",
   "execution_count": 76,
   "metadata": {},
   "outputs": [
    {
     "name": "stdout",
     "output_type": "stream",
     "text": [
      "                                              review predictions_text\n",
      "0    I did not simply like it, not my kind of movie.         negativo\n",
      "1  Well, I was bored and felt asleep in the middl...         negativo\n",
      "2             I was really fascinated with the movie         negativo\n",
      "3  Even the actors looked really old and disinter...         negativo\n",
      "4  I didn't expect the reboot to be so good! Writ...         negativo\n",
      "5  The movie had its upsides and downsides, but I...         positivo\n",
      "6  What a rotten attempt at a comedy. Not a singl...         negativo\n",
      "7  Launching on Netflix was a brave move & I real...         positivo\n"
     ]
    }
   ],
   "source": [
    "prediction = {0: \"negativo\", 1: \"positivo\"}\n",
    "\n",
    "# Convert the EagerTensor to an array numpy\n",
    "predictions_numpy = predictions.numpy()\n",
    "\n",
    "# Convert the array numpy to one -dimensional\n",
    "predictions_1d = predictions_numpy.flatten()\n",
    "\n",
    "# Apply a threshold to turn probabilities to binary predictions\n",
    "binary_preddictions = (predictions_1d >= 0.5).astype(int)\n",
    "\n",
    "# Create the pandas series of text predictions\n",
    "predictions_text = pd.Series(binary_preddictions).map(prediction)\n",
    "\n",
    "# Assign text predictions to dataframe\n",
    "my_reviews['predictions_text'] = predictions_text\n",
    "\n",
    "# Print reviews and text predictions\n",
    "print(my_reviews[['review', 'predictions_text']])"
   ]
  },
  {
   "cell_type": "markdown",
   "metadata": {},
   "source": [
    "## BERT Model"
   ]
  },
  {
   "cell_type": "code",
   "execution_count": 77,
   "metadata": {},
   "outputs": [],
   "source": [
    "# Convert the NumPy array 'reviews' containing BERT embeddings into a PyTorch tensor of float type,\n",
    "# and move it to the specified 'device' (e.g., GPU or CPU).\n",
    "reviews_tensor = torch.tensor(reviews).float().to(device)\n",
    "model_BERT.to(device)\n",
    "# Set the 'model_BERT' to evaluation mode. This disables layers like dropout and batch normalization,\n",
    "# ensuring consistent predictions during inference.\n",
    "model_BERT.eval()\n",
    "\n",
    "# Perform inference without tracking gradients. This reduces memory usage and speeds up computation.\n",
    "with torch.no_grad():\n",
    "    # Pass the 'reviews_tensor' through the 'model_BERT' to obtain the model's output (logits).\n",
    "    predictions = model_BERT(reviews_tensor)\n",
    "\n",
    "    # Apply the sigmoid function to the 'predictions' to convert logits into probabilities between 0 and 1.\n",
    "    # 'squeeze()' removes any singleton dimensions, 'cpu()' moves the tensor to the CPU,\n",
    "    # and 'numpy()' converts the tensor to a NumPy array.\n",
    "    probabilities = torch.sigmoid(predictions).squeeze().cpu().numpy()\n",
    "\n",
    "    # Convert the 'probabilities' into binary predictions (0 or 1) based on a threshold of 0.5.\n",
    "    # If a probability is greater than or equal to 0.5, the prediction is 1; otherwise, it's 0.\n",
    "    # 'astype(int)' converts the boolean array to an integer array.\n",
    "    binary_predictions = (probabilities >= 0.5).astype(int)"
   ]
  },
  {
   "cell_type": "code",
   "execution_count": 78,
   "metadata": {},
   "outputs": [
    {
     "name": "stdout",
     "output_type": "stream",
     "text": [
      "                                              review predictions_text\n",
      "0    I did not simply like it, not my kind of movie.         positivo\n",
      "1  Well, I was bored and felt asleep in the middl...         positivo\n",
      "2             I was really fascinated with the movie         positivo\n",
      "3  Even the actors looked really old and disinter...         positivo\n",
      "4  I didn't expect the reboot to be so good! Writ...         positivo\n",
      "5  The movie had its upsides and downsides, but I...         positivo\n",
      "6  What a rotten attempt at a comedy. Not a singl...         positivo\n",
      "7  Launching on Netflix was a brave move & I real...         positivo\n"
     ]
    }
   ],
   "source": [
    "my_reviews['probabilities'] = probabilities\n",
    "# This line adds a new column named 'probabilities' to the 'my_reviews' DataFrame.\n",
    "# It assigns the 'probabilities' array (likely containing prediction probabilities) to this new column.\n",
    "\n",
    "my_reviews['binary_predictions'] = binary_predictions\n",
    "# This line adds another new column named 'binary_predictions' to the 'my_reviews' DataFrame.\n",
    "# It assigns the 'binary_predictions' array (likely containing binary predictions, 0 or 1) to this column.\n",
    "\n",
    "prediction = {0: \"negativo\", 1: \"positivo\"}\n",
    "# This line creates a dictionary named 'prediction'.\n",
    "# It maps the integer 0 to the string \"negativo\" (negative) and the integer 1 to the string \"positivo\" (positive).\n",
    "# This dictionary will be used to translate the binary predictions into text labels.\n",
    "\n",
    "my_reviews['predictions_text'] = my_reviews['binary_predictions'].map(prediction)\n",
    "# This line adds a new column named 'predictions_text' to the 'my_reviews' DataFrame.\n",
    "# It uses the 'map' function to apply the 'prediction' dictionary to the 'binary_predictions' column.\n",
    "# This effectively replaces the binary predictions (0 and 1) with their corresponding text labels (\"negativo\" and \"positivo\").\n",
    "\n",
    "print(my_reviews[['review', 'predictions_text']])\n",
    "# This line prints a subset of the 'my_reviews' DataFrame.\n",
    "# It displays only the 'review' column (containing the original review text) and the 'predictions_text' column (containing the text labels of the predictions).\n",
    "# This allows for easy comparison of the original reviews and their predicted sentiment."
   ]
  },
  {
   "cell_type": "markdown",
   "metadata": {},
   "source": [
    "## Conclusions"
   ]
  },
  {
   "cell_type": "markdown",
   "metadata": {},
   "source": [
    "## Methodology\n",
    "\n",
    "### Data Preprocessing:\n",
    "\n",
    "* Loaded the IMDB reviews data from a TSV file into a Pandas DataFrame.\n",
    "* Applied various text preprocessing techniques such as lowercasing, tokenization, and lemmatization.\n",
    "* Utilized stop words removal and TF-IDF vectorization to transform the textual data into numerical features.\n",
    "\n",
    "### Model Selection:\n",
    "\n",
    "* Initially tested multiple models including Logistic Regression, LightGBM, and Dummy Classifier for baseline comparison.\n",
    "* Implemented advanced models such as a Neural Network built with TensorFlow/Keras and BERT (Bidirectional Encoder Representations from Transformers) using the transformers library.\n",
    "\n",
    "### Training and Evaluation:\n",
    "\n",
    "* Split the dataset into training and testing subsets.\n",
    "* Used Stratified KFold for cross-validation to ensure consistent performance across different segments of the data.\n",
    "* Applied grid search to optimize hyperparameters.\n",
    "* Evaluated models using metrics such as accuracy, precision, recall, F1 score, and AUC-ROC.\n",
    "* The F1 scores achieved ranged from 0.651 to 0.79, with BERT and the Neural Network models exceeding the F1 score threshold of 0.85.\n",
    "\n",
    "## Results and Discussion\n",
    "\n",
    "### BERT and Neural Network Models:\n",
    "\n",
    "* These models demonstrated superior performance in classifying the movie reviews.\n",
    "* The BERT model, with its ability to grasp contextual information, provided highly accurate predictions.\n",
    "* The Neural Network model built with TensorFlow/Keras also showed excellent results, making it another strong candidate for deployment.\n",
    "\n",
    "### Insights:\n",
    "\n",
    "* Both models surpassed the target F1 score of 0.85, making them reliable for real-world applications in the Film Junky Union platform.\n",
    "* By utilizing these models, the system can effectively filter out negative reviews, enhancing the user experience for movie enthusiasts.\n",
    "\n",
    "## Conclusion\n",
    "\n",
    "The development of an automated review classification system for Film Junky Union was successful. Through careful preprocessing, model selection, and evaluation, the project achieved its goal of accurately detecting negative movie reviews. The decision to use BERT and a Neural Network built with TensorFlow/Keras was validated by their high performance metrics. This project highlights the effectiveness of advanced NLP techniques and deep learning models in sentiment analysis, paving the way for future improvements and enhancements to the Film Junky Union community."
   ]
  },
  {
   "cell_type": "markdown",
   "metadata": {},
   "source": []
  },
  {
   "cell_type": "markdown",
   "metadata": {},
   "source": []
  },
  {
   "cell_type": "markdown",
   "metadata": {},
   "source": []
  }
 ],
 "metadata": {
  "kernelspec": {
   "display_name": "Python 3 (ipykernel)",
   "language": "python",
   "name": "python3"
  },
  "language_info": {
   "codemirror_mode": {
    "name": "ipython",
    "version": 3
   },
   "file_extension": ".py",
   "mimetype": "text/x-python",
   "name": "python",
   "nbconvert_exporter": "python",
   "pygments_lexer": "ipython3",
   "version": "3.12.2"
  },
  "toc": {
   "base_numbering": 1,
   "nav_menu": {},
   "number_sections": true,
   "sideBar": true,
   "skip_h1_title": true,
   "title_cell": "Table of Contents",
   "title_sidebar": "Contents",
   "toc_cell": false,
   "toc_position": {},
   "toc_section_display": true,
   "toc_window_display": false
  },
  "vscode": {
   "interpreter": {
    "hash": "ac629f305345b17df6668bc9b17021b4f12075c260532782c34ed55a489bc20f"
   }
  }
 },
 "nbformat": 4,
 "nbformat_minor": 4
}
